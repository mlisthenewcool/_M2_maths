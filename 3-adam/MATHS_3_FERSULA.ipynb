{
  "nbformat": 4,
  "nbformat_minor": 0,
  "metadata": {
    "colab": {
      "name": "TP_ADAM_MIA",
      "provenance": [],
      "collapsed_sections": []
    },
    "kernelspec": {
      "name": "python3",
      "display_name": "Python 3"
    }
  },
  "cells": [
    {
      "cell_type": "code",
      "metadata": {
        "id": "oDehhUmkqmFu",
        "colab_type": "code",
        "colab": {}
      },
      "source": [
        "import numpy as np\n",
        "import warnings\n",
        "import matplotlib.pyplot as plt\n",
        "import random\n",
        "warnings.filterwarnings(\"ignore\")"
      ],
      "execution_count": 0,
      "outputs": []
    },
    {
      "cell_type": "markdown",
      "metadata": {
        "id": "u8qxGFqK5rDF",
        "colab_type": "text"
      },
      "source": [
        "# 1. ADAM"
      ]
    },
    {
      "cell_type": "markdown",
      "metadata": {
        "id": "YGsCRl2lpECD",
        "colab_type": "text"
      },
      "source": [
        "## Exercice 1"
      ]
    },
    {
      "cell_type": "code",
      "metadata": {
        "id": "ZbnrcIhVo-oG",
        "colab_type": "code",
        "outputId": "673cc37f-51a4-409b-fe42-7f390ac03475",
        "colab": {
          "base_uri": "https://localhost:8080/",
          "height": 300
        }
      },
      "source": [
        "# Require: α: Stepsize\n",
        "# Require: β1, β2 ∈ [0, 1): Exponential decay rates for the moment estimates\n",
        "# Require: f(θ): Stochastic objective function with parameters θ\n",
        "# Require: θ0: Initial parameter vector\n",
        "# m0 ← 0 (Initialize 1st moment vector)\n",
        "# v0 ← 0 (Initialize 2nd moment vector)\n",
        "# t ← 0 (Initialize timestep)\n",
        "# while θt not converged do\n",
        "# t ← t + 1\n",
        "# gt ← ∇θft(θt−1) (Get gradients w.r.t. stochastic objective at timestep t)\n",
        "# mt ← β1 · mt−1 + (1 − β1) · gt (Update biased first moment estimate)\n",
        "# vt ← β2 · vt−1 + (1 − β2) · g_2_t (Update biased second raw moment estimate)\n",
        "# mb t ← mt/(1 − β_t_1) (Compute bias-corrected first moment estimate)\n",
        "# vbt ← vt/(1 − β_t_2) (Compute bias-corrected second raw moment estimate)\n",
        "# θt ← θt−1 − α · mb t/(√vbt + eps) (Update parameters)\n",
        "# end while\n",
        "# return θt (Resulting parameters)\n",
        "\n",
        "# Problem : Least squares with regularization |Ax - b|**2 + lambda * R(x)\n",
        "\n",
        "\n",
        "class AdamMSE:\n",
        "  \"\"\"Adam solver for MSE problems.\"\"\"\n",
        "\n",
        "  def __init__(self, step, init, batch_size, b1=0.9, b2=0.999, max_it=10000,\\\n",
        "               eps=0.001, lamb=0.01, delta=0.1, gamma=0.01, plot=False):\n",
        "    self.step = step\n",
        "    self.x = init\n",
        "    self.batch_size = batch_size\n",
        "    self.b1 = b1\n",
        "    self.b2 = b2\n",
        "    self.max_it = max_it\n",
        "    self.eps = eps\n",
        "    \n",
        "    self.lamb = lamb\n",
        "    self.delta = delta\n",
        "    self.gamma = gamma\n",
        "\n",
        "    self.plot = plot\n",
        "\n",
        "  def fit(self, A, b, reg=\"\"):\n",
        "    grad = self.grad\n",
        "    if reg == \"L2\":\n",
        "      grad = self.gradL2\n",
        "    if reg == \"L1\":\n",
        "      grad = self.gradL1\n",
        "    if reg == \"Enet\":\n",
        "      grad = self.elastic\n",
        "    \n",
        "    m_t = np.zeros(self.x.shape)\n",
        "    v_t = np.zeros(self.x.shape)\n",
        "    t = 0\n",
        "    theta_t = self.x\n",
        "    prev_theta = np.ones(self.x.shape) * float(\"inf\")\n",
        "    \n",
        "    progression = []\n",
        "\n",
        "    while t < self.max_it and np.linalg.norm(theta_t - prev_theta) > self.eps:\n",
        "      t+=1\n",
        "      g_t = grad(theta_t, A, b)\n",
        "      m_t = self.b1 * m_t + (1 - self.b1) * g_t\n",
        "      v_t = self.b2 * v_t + (1 - self.b2) * g_t**2\n",
        "      mb_t = m_t / (1 - self.b1**t)\n",
        "      vb_t = v_t / (1- self.b2**t)\n",
        "      prev_theta = theta_t\n",
        "      theta_t = theta_t - self.step * mb_t/(np.sqrt(vb_t) + 10**-8)\n",
        "      if(self.plot):\n",
        "        progression += [np.linalg.norm(A @ theta_t - b)]\n",
        "\n",
        "    if(self.plot):\n",
        "      plt.plot(np.arange(t), progression)\n",
        "      plt.show()\n",
        "    \n",
        "    self.x = theta_t\n",
        "    \n",
        "    print(\"Done. (\", t, \"iterations. )\")\n",
        "  \n",
        "  def grad(self, X, A, b):\n",
        "    # random.sample(max, n) create n differents numbers from 0 to max excluded\n",
        "    col = random.sample(range(X.shape[0]), self.batch_size)\n",
        "    res = np.zeros(X.shape)\n",
        "    for i in col:\n",
        "      res += 2 * A[i, :] * (A[i, :] @ X - b[i])\n",
        "    return res\n",
        "  \n",
        "  def gradL2(self, X, A, b):\n",
        "    col = random.sample(range(X.shape[0]), self.batch_size)\n",
        "    res = np.zeros(X.shape)\n",
        "    for i in col:\n",
        "      res += 2 * A[i, :] * (A[i, :] @ X - b[i]) + X * self.lamb\n",
        "    return res\n",
        "  \n",
        "  def gradL1(self, X, A, b):\n",
        "    col = random.sample(range(X.shape[0]), self.batch_size)\n",
        "    res = np.zeros(X.shape)\n",
        "\n",
        "    huber = np.zeros(X.shape)\n",
        "    for i in range(len(huber)):\n",
        "      if np.abs(X[i]) < self.delta:\n",
        "        huber[i] = X[i]\n",
        "      else:\n",
        "        huber[i] = self.delta * (X[i] / abs(X[i]))\n",
        "    for i in col:\n",
        "      res += 2 * A[i, :] * (A[i, :] @ X - b[i]) + huber * self.lamb\n",
        "    return res\n",
        "  \n",
        "  def elastic(self, X, A, b):\n",
        "    col = random.sample(range(X.shape[0]), self.batch_size)\n",
        "    res = np.zeros(X.shape)\n",
        "\n",
        "    huber = np.zeros(X.shape)\n",
        "    for i in range(len(huber)):\n",
        "      if np.abs(X[i]) < self.delta:\n",
        "        huber[i] = X[i]\n",
        "      else:\n",
        "        huber[i] = self.delta * (X[i] / abs(X[i]))\n",
        "    for i in col:\n",
        "      res += 2 * A[i, :] * (A[i, :] @ X - b[i]) + huber * self.lamb + \\\n",
        "             X * self.lamb * self.gamma\n",
        "    return res\n",
        "\n",
        "# Exercice 1 -------------------------------------------------------------------\n",
        "A = np.random.normal(0, 0.1, (200, 200))\n",
        "\n",
        "x_init = np.random.choice([0, 1], size=(200,), p=[0.8, 0.2])\n",
        "b = A @ x_init\n",
        "\n",
        "\n",
        "method1 = AdamMSE(0.001, np.random.random(A.shape[1]), 20, plot=True)\n",
        "method1.fit(A, b)\n",
        "print(\"||AX - b|| final : \", np.linalg.norm(A @ method1.x - b))"
      ],
      "execution_count": 60,
      "outputs": [
        {
          "output_type": "display_data",
          "data": {
            "image/png": "[encoded data removed]",
            "text/plain": [
              "<Figure size 432x288 with 1 Axes>"
            ]
          },
          "metadata": {
            "tags": []
          }
        },
        {
          "output_type": "stream",
          "text": [
            "Done. ( 10000 iterations. )\n",
            "||AX - b|| final :  0.1567691253703203\n"
          ],
          "name": "stdout"
        }
      ]
    },
    {
      "cell_type": "markdown",
      "metadata": {
        "id": "tVs8Wd5vEo3y",
        "colab_type": "text"
      },
      "source": [
        "## Exercice 2"
      ]
    },
    {
      "cell_type": "code",
      "metadata": {
        "id": "JoOuRcb8Eroq",
        "colab_type": "code",
        "outputId": "6aa8b07c-4348-4efe-9730-ba246b304522",
        "colab": {
          "base_uri": "https://localhost:8080/",
          "height": 300
        }
      },
      "source": [
        "# Parameter \"reg\" of Adam.solve has been added\n",
        "# takes value in {\"L1\", \"L2\", \"MSE\", \"Enet\"}\n",
        "\n",
        "method2 = AdamMSE(0.001, np.random.random(A.shape[1]), 20, plot=True)\n",
        "method2.fit(A, b, reg=\"L2\")\n",
        "print(\"||AX - b|| final : \", np.linalg.norm(A @ method2.x - b))"
      ],
      "execution_count": 61,
      "outputs": [
        {
          "output_type": "display_data",
          "data": {
            "image/png": "[encoded data removed]",
            "text/plain": [
              "<Figure size 432x288 with 1 Axes>"
            ]
          },
          "metadata": {
            "tags": []
          }
        },
        {
          "output_type": "stream",
          "text": [
            "Done. ( 10000 iterations. )\n",
            "||AX - b|| final :  2.942909033435563\n"
          ],
          "name": "stdout"
        }
      ]
    },
    {
      "cell_type": "markdown",
      "metadata": {
        "id": "hqh_9ypQHDx_",
        "colab_type": "text"
      },
      "source": [
        "## Exercice 3"
      ]
    },
    {
      "cell_type": "code",
      "metadata": {
        "id": "7P0QS58oHFkM",
        "colab_type": "code",
        "outputId": "e436eb99-0855-4576-a3d3-c33f341eaf5e",
        "colab": {
          "base_uri": "https://localhost:8080/",
          "height": 300
        }
      },
      "source": [
        "method3 = AdamMSE(0.001, np.random.random(A.shape[1]), 20, plot=True)\n",
        "method3.fit(A, b, reg=\"L1\")\n",
        "print(\"||AX - b|| final : \", np.linalg.norm(A @ method3.x - b))"
      ],
      "execution_count": 62,
      "outputs": [
        {
          "output_type": "display_data",
          "data": {
            "image/png": "[encoded data removed]",
            "text/plain": [
              "<Figure size 432x288 with 1 Axes>"
            ]
          },
          "metadata": {
            "tags": []
          }
        },
        {
          "output_type": "stream",
          "text": [
            "Done. ( 10000 iterations. )\n",
            "||AX - b|| final :  0.6837227651487392\n"
          ],
          "name": "stdout"
        }
      ]
    },
    {
      "cell_type": "markdown",
      "metadata": {
        "id": "z2oYIcs55e9T",
        "colab_type": "text"
      },
      "source": [
        "## Exercice 4"
      ]
    },
    {
      "cell_type": "code",
      "metadata": {
        "id": "m6XYa9AO74mx",
        "colab_type": "code",
        "outputId": "0a1cfa62-6025-4c95-cddb-5ece63733cd3",
        "colab": {
          "base_uri": "https://localhost:8080/",
          "height": 208
        }
      },
      "source": [
        "x_mean = np.zeros(A.shape[1])\n",
        "\n",
        "for i in range(10):\n",
        "  method4 = AdamMSE(0.001, np.random.random(A.shape[1]), 20, plot=False)\n",
        "  method4.fit(A, b)\n",
        "  x_mean += method4.x\n",
        "\n",
        "x_mean /= 10\n",
        "print(\"||AX - b|| final : \", np.linalg.norm(A @ x_mean - b))"
      ],
      "execution_count": 64,
      "outputs": [
        {
          "output_type": "stream",
          "text": [
            "Done. ( 10000 iterations. )\n",
            "Done. ( 10000 iterations. )\n",
            "Done. ( 10000 iterations. )\n",
            "Done. ( 10000 iterations. )\n",
            "Done. ( 10000 iterations. )\n",
            "Done. ( 10000 iterations. )\n",
            "Done. ( 10000 iterations. )\n",
            "Done. ( 10000 iterations. )\n",
            "Done. ( 10000 iterations. )\n",
            "Done. ( 10000 iterations. )\n",
            "||AX - b|| final :  0.1258096433976155\n"
          ],
          "name": "stdout"
        }
      ]
    },
    {
      "cell_type": "markdown",
      "metadata": {
        "id": "kQJD-sOo1vrj",
        "colab_type": "text"
      },
      "source": [
        "# Descente de gradient par coordonnées"
      ]
    },
    {
      "cell_type": "markdown",
      "metadata": {
        "id": "wylb1xkQ40bf",
        "colab_type": "text"
      },
      "source": [
        "## Exercice 5"
      ]
    },
    {
      "cell_type": "markdown",
      "metadata": {
        "id": "Rw-TPpYd_-Cr",
        "colab_type": "text"
      },
      "source": [
        "Lemma 1 - page 4\n",
        "\n",
        "GS-s coordinate decision rule is the simplest to implement.\n",
        "Therefore we will only implement this rule."
      ]
    },
    {
      "cell_type": "code",
      "metadata": {
        "id": "XdMzRrrx44H5",
        "colab_type": "code",
        "colab": {
          "base_uri": "https://localhost:8080/",
          "height": 283
        },
        "outputId": "4c1b95fe-4074-4514-8a93-95235e4854c7"
      },
      "source": [
        "# Initialize: α0 := 0 ∈ Rn.\n",
        "# for t = 0, 1, . . . , until convergence do\n",
        "#   Select coordinate it as in GS-s, GS-r, or GS-q.\n",
        "#   Find α+_it via gradient (10) or line-search (11).\n",
        "#   Compute α(t+1)_it as in (12).\n",
        "# end for\n",
        "\n",
        "class SDG:\n",
        "  def __init__(self, step, lamb=0.01, eps=0.001, max_it=10000, plot=False):\n",
        "    self.step = step\n",
        "    self.lamb = lamb\n",
        "    self.eps = eps\n",
        "    self.max_it = max_it\n",
        "    self.plot = plot\n",
        "\n",
        "    self.x = None\n",
        "\n",
        "  def fit(self, A, b):\n",
        "    self.A = A\n",
        "    self.b = b\n",
        "\n",
        "    a_prev = np.ones(A.shape[1]) * float(\"inf\")\n",
        "    a_next = np.zeros(A.shape[1])\n",
        "\n",
        "    t = 0\n",
        "\n",
        "    progression = []\n",
        "\n",
        "    while t < self.max_it :\n",
        "      a_prev = a_next\n",
        "      i = self.gs_s(a_next)\n",
        "      grad = 2 * self.A[:, i].T @ (self.A[:, i] * a_next[i] - self.b)\n",
        "      a_plus = self.S(a_next[i] - self.step * grad, self.lamb * self.step)\n",
        "      if a_next[i] * a_plus >= 0:\n",
        "        a_next[i] = a_plus\n",
        "      else:\n",
        "        a_next[i] = 0\n",
        "      t+=1\n",
        "      if(self.plot):\n",
        "        progression += [np.linalg.norm(A @ a_next - b)]\n",
        "\n",
        "    if(self.plot):\n",
        "      plt.plot(np.arange(t), progression)\n",
        "      plt.show()\n",
        "    \n",
        "    self.x = a_next\n",
        "    \n",
        "    print(\"Done. (\", t, \"iterations. )\")\n",
        "\n",
        "  def gs_s(self, alpha):\n",
        "    good_i = 0\n",
        "    best = -1\n",
        "    for i in range(self.A.shape[1]):\n",
        "      current = abs(self.s(alpha, i))\n",
        "      if current > best:\n",
        "        best = current\n",
        "        good_i = i\n",
        "    return good_i\n",
        "  \n",
        "  def S(self, x, lamb):\n",
        "    if abs(x) >= lamb:\n",
        "      return x - lamb * (x/abs(x))\n",
        "    else:\n",
        "      return 0\n",
        "  \n",
        "  def s(self, alpha, i):\n",
        "    grad = 2 * self.A[:, i].T @ (self.A[:, i] * alpha[i] - self.b)\n",
        "    if alpha[i] == 0:\n",
        "      return self.S(grad, self.lamb)\n",
        "    else:\n",
        "      return grad + self.lamb * (alpha[i]/abs(alpha[i]))\n",
        "\n",
        "SDG1 = SDG(0.01, max_it=2000, plot=True)\n",
        "SDG1.fit(A, b)\n"
      ],
      "execution_count": 65,
      "outputs": [
        {
          "output_type": "display_data",
          "data": {
            "image/png": "[encoded data removed]",
            "text/plain": [
              "<Figure size 432x288 with 1 Axes>"
            ]
          },
          "metadata": {
            "tags": []
          }
        },
        {
          "output_type": "stream",
          "text": [
            "Done. ( 2000 iterations. )\n"
          ],
          "name": "stdout"
        }
      ]
    },
    {
      "cell_type": "markdown",
      "metadata": {
        "id": "uzBjj7DIMptb",
        "colab_type": "text"
      },
      "source": [
        "## Exercice 6"
      ]
    },
    {
      "cell_type": "code",
      "metadata": {
        "id": "W7zCiqZ2MsFr",
        "colab_type": "code",
        "colab": {
          "base_uri": "https://localhost:8080/",
          "height": 300
        },
        "outputId": "c71711ca-b1eb-4b17-f991-0f1f0d6e02b7"
      },
      "source": [
        "method5 = AdamMSE(0.001, np.random.random(A.shape[1]), 20, plot=True)\n",
        "method5.fit(A, b, reg=\"Enet\")\n",
        "print(\"||AX - b|| final : \", np.linalg.norm(A @ method5.x - b))"
      ],
      "execution_count": 66,
      "outputs": [
        {
          "output_type": "display_data",
          "data": {
            "image/png": "[encoded data removed]",
            "text/plain": [
              "<Figure size 432x288 with 1 Axes>"
            ]
          },
          "metadata": {
            "tags": []
          }
        },
        {
          "output_type": "stream",
          "text": [
            "Done. ( 10000 iterations. )\n",
            "||AX - b|| final :  0.7329970628681857\n"
          ],
          "name": "stdout"
        }
      ]
    },
    {
      "cell_type": "markdown",
      "metadata": {
        "id": "AcknSvZTNTug",
        "colab_type": "text"
      },
      "source": [
        "Question 6 : Il faut choisir les paramètres par validation croisée."
      ]
    }
  ]
}