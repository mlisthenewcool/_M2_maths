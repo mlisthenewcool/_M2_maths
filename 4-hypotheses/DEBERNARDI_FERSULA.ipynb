{
  "nbformat": 4,
  "nbformat_minor": 0,
  "metadata": {
    "colab": {
      "name": "DEBERNARDI-FERSULA.ipynb",
      "provenance": [],
      "collapsed_sections": []
    },
    "kernelspec": {
      "name": "python3",
      "display_name": "Python 3"
    }
  },
  "cells": [
    {
      "cell_type": "markdown",
      "metadata": {
        "id": "z0xh7pHiKQp1",
        "colab_type": "text"
      },
      "source": [
        "**Note importante pour une comparaison optimale des résultats**\n",
        "\n",
        "Les graphiques dans ce notebook utilisent la librairie [plotly](https://plot.ly/python/) et sont donc intéractifs. Il est par exemple possible de masquer une courbe en cliquant sur sa légende, ou encore d'en sélectionner une seule en double-cliquant sur sa légende.\n",
        "\n",
        "**DEBERNARDI - FERSULA**\n"
      ]
    },
    {
      "cell_type": "markdown",
      "metadata": {
        "id": "hB7nNiDch_lW",
        "colab_type": "text"
      },
      "source": [
        "# **Évaluation du risque par une méthode de Monte Carlo et tests par permutations**"
      ]
    },
    {
      "cell_type": "markdown",
      "metadata": {
        "id": "kuhTerUHibJl",
        "colab_type": "text"
      },
      "source": [
        "L'objectif de ce TP est de regarder le test de comparaison de deux moyennes à partir de deux échantillons indépendants.\n",
        "Les données forment un vecteur $(x_1,\\ldots, x_m, y_1,\\ldots, y_n)$ de longueur $m+n$. Elles concernent l'effet d'un traitement médical sur $m+n$ patients. Les $m=13$ premiers patients ont reçu le médicament $A$, qui est le traitement de référence. Les $n=16$ autres patients ont reçu le médicament $B$, qui est le nouveau traitement. L'objectif de l'étude est de savoir si ce médicament $B$ est plus efficace que le traitement de référence.\n",
        "\n",
        "Les données sont :\n",
        "$x_{1:m}^\\text{obs} = (-3.06, -0.71, 11.99, 1.42, 1.84, 13.1, 4.19, -8.06, -3.96, -2.24, 9.61, 3.47, 3.77)$ et $y_{1:n}^\\text{obs} = (12.57, 7.44, 2.97, 10.35, 10.24, 9.89, 9.07, 8.23, 4.42, 2.9, 2.44, 0.49, 3.51, -3.05, 18.25, 12.29)$.\n",
        "\n",
        "On modélise ces données $(x_1,\\ldots, x_m, y_1,\\ldots, y_n)$ par le vecteur de variables aléatoires $(X_1,\\ldots, X_m, Y_1,\\ldots, Y_n)$. On suppose que ces $m+n$ variables sont indépendantes, que les $X_i$ ont tous même loi, d'espérance $\\mu_X$ et que les $Y_j$ ont tous même loi, d'espérance\n",
        "$\\mu_X+\\Delta$.\n",
        "\n",
        "On s'intéresse aux  hypothèses $H_0: \\Delta \\le 0 \\quad \\textit{vs} \\quad H_1~: \\Delta>0$."
      ]
    },
    {
      "cell_type": "code",
      "metadata": {
        "id": "jY-LjfjplBID",
        "colab_type": "code",
        "outputId": "aea548d0-cc0e-4ae9-bf62-36730439b902",
        "colab": {
          "base_uri": "https://localhost:8080/",
          "height": 190
        }
      },
      "source": [
        "# permet d'obtenir le temps d'exécution de chacune des cellules du notebook\n",
        "!pip install ipython-autotime\n",
        "%load_ext autotime"
      ],
      "execution_count": 0,
      "outputs": [
        {
          "output_type": "stream",
          "text": [
            "Collecting ipython-autotime\n",
            "  Downloading https://files.pythonhosted.org/packages/e6/f9/0626bbdb322e3a078d968e87e3b01341e7890544de891d0cb613641220e6/ipython-autotime-0.1.tar.bz2\n",
            "Building wheels for collected packages: ipython-autotime\n",
            "  Building wheel for ipython-autotime (setup.py) ... \u001b[?25l\u001b[?25hdone\n",
            "  Created wheel for ipython-autotime: filename=ipython_autotime-0.1-cp36-none-any.whl size=1832 sha256=a4afa507e8b9050c008639104924f1570b3ab8858f86b648f4b1fd149327dcb2\n",
            "  Stored in directory: /root/.cache/pip/wheels/d2/df/81/2db1e54bc91002cec40334629bc39cfa86dff540b304ebcd6e\n",
            "Successfully built ipython-autotime\n",
            "Installing collected packages: ipython-autotime\n",
            "Successfully installed ipython-autotime-0.1\n"
          ],
          "name": "stdout"
        }
      ]
    },
    {
      "cell_type": "code",
      "metadata": {
        "id": "qXzjDbLLFwyO",
        "colab_type": "code",
        "outputId": "7ff875fe-5bea-4d0a-b57d-a18760c9ea35",
        "colab": {
          "base_uri": "https://localhost:8080/",
          "height": 34
        }
      },
      "source": [
        "import numpy as np\n",
        "import scipy.stats as stats\n",
        "import plotly.graph_objects as go\n",
        "from sklearn.utils import resample\n",
        "from sklearn.linear_model import LinearRegression"
      ],
      "execution_count": 0,
      "outputs": [
        {
          "output_type": "stream",
          "text": [
            "time: 2.05 s\n"
          ],
          "name": "stdout"
        }
      ]
    },
    {
      "cell_type": "markdown",
      "metadata": {
        "id": "eLAbVG7W238E",
        "colab_type": "text"
      },
      "source": [
        "## **Partie 1 : Test de Student sous hypothèse gaussienne**"
      ]
    },
    {
      "cell_type": "markdown",
      "metadata": {
        "id": "cePcAAMWA4An",
        "colab_type": "text"
      },
      "source": [
        "### **1.1** Justifier du choix de $\\Delta \\le 0$ comme hypothèse nulle.\n",
        "\n",
        "On cherche à savoir si le traitement B est plus efficace que le A. Sous l'hypothèse ($\\Delta \\le 0$), l'efficacité moyenne du traitement B n'est pas meilleure que celle du traitement A. On pose donc comme hypothèse nulle $H_0 : \\Delta \\le 0$ afin de ne pas avoir de perte d'efficacité en cas d'erreur (autrement dit, on préfère conserver A si on est pas suffisamment certain de la supériorité de B). \n",
        "\n",
        "On cherchera par la suite à calculer $P(H_1 | H_0)$ la probabilité qui nous indique à quel point on aurait tort de croire en l'hypothèse $H_0$ plutôt qu'en $H_1$."
      ]
    },
    {
      "cell_type": "markdown",
      "metadata": {
        "id": "l-PcV890A7W1",
        "colab_type": "text"
      },
      "source": [
        "### **1.2** Justifier du choix de la statistique de test T.\n",
        "\n",
        "T est une bonne statistique de test car :\n",
        "\n",
        "* (a) On peut calculer T sans connaître la vraie valeur de $\\theta = \\{\\mu_X, \\sigma^2, \\Delta\\}$ .\n",
        "    * T dépend uniquement des observations.\n",
        "\n",
        "* (b) Le comportement de T sous ($H_0$) et sous ($H_1$) est différent.\n",
        "    * On attend de T qu'il soit $\\le$ 0 lorsque $\\Delta \\le 0$ et > 0 lorsque $\\Delta > 0$.\n",
        "\n",
        "* (c) La loi de $T$ sous les pires cas est entièrement connue.\n",
        "    * Dans le pire cas $\\Delta = 0$, $T$ suit une loi de Student à $m+n-2$ degrés de liberté.\n",
        "\n",
        "* (d) Le comportement de T est connu lorsqu'on s'éloigne de ($H_0$).\n",
        "    * T est croissant en $\\Delta$."
      ]
    },
    {
      "cell_type": "markdown",
      "metadata": {
        "id": "RUFMt2EBA9xD",
        "colab_type": "text"
      },
      "source": [
        "### **1.3** Justifier que la zone de rejet soit de la forme [c; +$\\infty$] où c est une constante à déterminer.\n",
        "\n",
        "On rejette l'hypothèse nulle après un test de taille $\\alpha$ si $P(H_1 | H_0) > 1 - \\alpha $. Soit $c \\in \\textbf{R}^+$\n",
        "\n",
        "On a : $\\Delta > 0 \\iff T > 0$.\n",
        "\n",
        "$P(H_1 | H_0) = P(\\Delta > 0 | H_0) = P(T > 0 | H_0) \\geq P(T>c)$\n",
        "\n",
        " et on a : $ P(T>c) > 1 - \\alpha \\implies P(H_1 | H_0) > 1 - \\alpha$ \n",
        "\n",
        "D'où une zone de rejet de la forme [c; +$\\infty$].\n"
      ]
    },
    {
      "cell_type": "markdown",
      "metadata": {
        "id": "QKwO5ZNSBAEO",
        "colab_type": "text"
      },
      "source": [
        "### **1.4** On note $\\Phi_{m+n-2}$ la fonction de répartition de la loi de Student à $m+n-2$ degrés de liberté. Montrer que, si l'on fixe la taille du test à $\\alpha$, il faut choisir $c=\\Phi_{m+n-2}^{-1}(1-\\alpha)$.\n",
        "\n",
        "On veut $P(H_1 | H_0) = \\alpha$\n",
        "\n",
        " $\\iff P(\\bar Y - \\bar X > \\epsilon) = \\alpha$\n",
        "\n",
        "$ \\iff P(\\bar Y - \\bar X < \\epsilon) = 1- \\alpha$\n",
        "\n",
        "$\\iff P(T < c) = 1- \\alpha$ avec c = $\\frac{\\epsilon}{\\sqrt{S_p^2\\left(\\frac1m+\\frac1n\\right)}}$\n",
        "\n",
        "$\\iff \\Phi_{m+n-2}(c) = 1-\\alpha$\n",
        "\n",
        "$\\iff c=\\Phi_{m+n-2}^{-1}(1-\\alpha)$\n",
        "\n"
      ]
    },
    {
      "cell_type": "markdown",
      "metadata": {
        "id": "rmjk7Sy6CRAd",
        "colab_type": "text"
      },
      "source": [
        "### **1.5** Ecrire une fonction (sans boucle for explicite), nommée calculeT qui calcule la valeur observée de T, à partir de deux entrées : le vecteur des $x_i$ et le vecteur des $y_i$. Que vaut la valeur observée $t^{obs}$ ici ?\n"
      ]
    },
    {
      "cell_type": "code",
      "metadata": {
        "id": "Hz_yx45yC5No",
        "colab_type": "code",
        "outputId": "4a2665a3-d7e3-48b7-9a0b-9d6cc5a0cb03",
        "colab": {
          "base_uri": "https://localhost:8080/",
          "height": 34
        }
      },
      "source": [
        "def calculeT(x1, x2):\n",
        "    \"\"\"\n",
        "    Modélise un test pour comparer deux moyennes sous hypothèse gaussienne.\n",
        "    \n",
        "    Hypothèse nulle    : H0 (mu1 >= mu2)\n",
        "    Hypothèse à tester : H1 (mu1 <  mu2)\n",
        "    P-valeur           : valeur maximum du pourcentage au-delà duquel je ne\n",
        "                         peux plus rejeter H1.\n",
        "    \n",
        "    Parameters\n",
        "    ----------\n",
        "    x1 : array-like\n",
        "    x2 : array-like\n",
        "    \"\"\"\n",
        "    assert len(x1) > 0, 'x1 doit contenir des données'\n",
        "    assert len(x2) > 0, 'x2 doit contenir des données'\n",
        "\n",
        "    mu1 = x1.mean()\n",
        "    mu2 = x2.mean()\n",
        "\n",
        "    student_law_degree = (len(x1) + len(x2) - 2)\n",
        "\n",
        "    # on calcule la somme des variances pour éviter de diviser par la taille\n",
        "    # puis de re-multiplier lors du calcul de S\n",
        "    var1 = ((x1 - mu1)**2).sum()\n",
        "    var2 = ((x2 - mu2)**2).sum()\n",
        "\n",
        "    S = (var1 + var2) / student_law_degree\n",
        "    denom = np.sqrt(S * (1/len(x1) + 1/len(x2)))\n",
        "\n",
        "    return (mu2 - mu1) / denom\n",
        "\n",
        "def calculePvalue(t_obs, student_law_degree):\n",
        "    \"\"\"\n",
        "    Parameters\n",
        "    ----------\n",
        "    x1 : integer\n",
        "    x2 : integer\n",
        "    \"\"\"\n",
        "    return 1 - stats.t.cdf(t_obs, student_law_degree)"
      ],
      "execution_count": 0,
      "outputs": [
        {
          "output_type": "stream",
          "text": [
            "time: 16.1 ms\n"
          ],
          "name": "stdout"
        }
      ]
    },
    {
      "cell_type": "markdown",
      "metadata": {
        "id": "afnHGePOoOLO",
        "colab_type": "text"
      },
      "source": [
        "* Tests de vérification en fonction de la valeur de $\\Delta$"
      ]
    },
    {
      "cell_type": "code",
      "metadata": {
        "id": "FRp2HSvkoNcO",
        "colab_type": "code",
        "outputId": "1725bb9f-b9a0-48ad-c0db-623d22c98093",
        "colab": {
          "base_uri": "https://localhost:8080/",
          "height": 306
        }
      },
      "source": [
        "def tests_selon_delta(deltas):\n",
        "    \"\"\"\n",
        "    Parameters\n",
        "    ----------\n",
        "    deltas : array-like\n",
        "    \"\"\"\n",
        "    for delta in deltas:\n",
        "        x1 = np.random.normal(0, 1, size=(1000))\n",
        "        x2 = np.random.normal(delta, 1, size=(1000))\n",
        "        \n",
        "        t_obs = calculeT(x1, x2)\n",
        "        p_value = calculePvalue(t_obs, len(x1)+len(x2)-2)\n",
        "\n",
        "        print(f\"* delta = {delta}\")\n",
        "        print(f\"\\t t_obs={t_obs}\")\n",
        "        print(f\"\\t p_value={p_value}\\n\")\n",
        "\n",
        "tests_selon_delta(deltas=[1, -1, 0.1, -0.1])"
      ],
      "execution_count": 0,
      "outputs": [
        {
          "output_type": "stream",
          "text": [
            "* delta = 1\n",
            "\t t_obs=23.12003402588662\n",
            "\t p_value=0.0\n",
            "\n",
            "* delta = -1\n",
            "\t t_obs=-22.75123747786564\n",
            "\t p_value=1.0\n",
            "\n",
            "* delta = 0.1\n",
            "\t t_obs=3.2566363505943525\n",
            "\t p_value=0.0005731407723742477\n",
            "\n",
            "* delta = -0.1\n",
            "\t t_obs=-1.5617263614192738\n",
            "\t p_value=0.9407445834273733\n",
            "\n",
            "time: 31.3 ms\n"
          ],
          "name": "stdout"
        }
      ]
    },
    {
      "cell_type": "markdown",
      "metadata": {
        "id": "nqtjLbES9vi4",
        "colab_type": "text"
      },
      "source": [
        "* Test de vérification de la valeur de la $p$-value en fonction de delta"
      ]
    },
    {
      "cell_type": "code",
      "metadata": {
        "id": "sW2DAoPK9vrO",
        "colab_type": "code",
        "outputId": "183914a3-a7f9-4b35-edb2-a38c0be99968",
        "colab": {
          "base_uri": "https://localhost:8080/",
          "height": 559
        }
      },
      "source": [
        "start = -5\n",
        "end = 5\n",
        "t_obs_range = np.arange(start, end)\n",
        "\n",
        "values = []\n",
        "for t_obs in t_obs_range:\n",
        "    values.append(calculePvalue(t_obs, 27))\n",
        "\n",
        "fig = go.Figure(\n",
        "    data=[\n",
        "        go.Scatter(\n",
        "            y=values\n",
        "        )\n",
        "    ],\n",
        "    layout={\n",
        "        'legend': {\n",
        "            'orientation': 'h'\n",
        "        },\n",
        "    }\n",
        ")\n",
        "fig.show()"
      ],
      "execution_count": 0,
      "outputs": [
        {
          "output_type": "display_data",
          "data": {
            "text/html": [
              "<html>\n",
              "<head><meta charset=\"utf-8\" /></head>\n",
              "<body>\n",
              "    <div>\n",
              "            <script src=\"https://cdnjs.cloudflare.com/ajax/libs/mathjax/2.7.5/MathJax.js?config=TeX-AMS-MML_SVG\"></script><script type=\"text/javascript\">if (window.MathJax) {MathJax.Hub.Config({SVG: {font: \"STIX-Web\"}});}</script>\n",
              "                <script type=\"text/javascript\">window.PlotlyConfig = {MathJaxConfig: 'local'};</script>\n",
              "        <script src=\"https://cdn.plot.ly/plotly-latest.min.js\"></script>    \n",
              "            <div id=\"57b17065-4c08-46d6-9c9d-3412ad72edc3\" class=\"plotly-graph-div\" style=\"height:525px; width:100%;\"></div>\n",
              "            <script type=\"text/javascript\">\n",
              "                \n",
              "                    window.PLOTLYENV=window.PLOTLYENV || {};\n",
              "                    \n",
              "                if (document.getElementById(\"57b17065-4c08-46d6-9c9d-3412ad72edc3\")) {\n",
              "                    Plotly.newPlot(\n",
              "                        '57b17065-4c08-46d6-9c9d-3412ad72edc3',\n",
              "                        [{\"type\": \"scatter\", \"y\": [0.999984772172782, 0.9997787154292729, 0.9971271436786571, 0.9721737863359812, 0.8369055496601365, 0.5, 0.16309445033986347, 0.02782621366401894, 0.0028728563213428204, 0.00022128457072700947]}],\n",
              "                        {\"legend\": {\"orientation\": \"h\"}, \"template\": {\"data\": {\"bar\": [{\"error_x\": {\"color\": \"#2a3f5f\"}, \"error_y\": {\"color\": \"#2a3f5f\"}, \"marker\": {\"line\": {\"color\": \"#E5ECF6\", \"width\": 0.5}}, \"type\": \"bar\"}], \"barpolar\": [{\"marker\": {\"line\": {\"color\": \"#E5ECF6\", \"width\": 0.5}}, \"type\": \"barpolar\"}], \"carpet\": [{\"aaxis\": {\"endlinecolor\": \"#2a3f5f\", \"gridcolor\": \"white\", \"linecolor\": \"white\", \"minorgridcolor\": \"white\", \"startlinecolor\": \"#2a3f5f\"}, \"baxis\": {\"endlinecolor\": \"#2a3f5f\", \"gridcolor\": \"white\", \"linecolor\": \"white\", \"minorgridcolor\": \"white\", \"startlinecolor\": \"#2a3f5f\"}, \"type\": \"carpet\"}], \"choropleth\": [{\"colorbar\": {\"outlinewidth\": 0, \"ticks\": \"\"}, \"type\": \"choropleth\"}], \"contour\": [{\"colorbar\": {\"outlinewidth\": 0, \"ticks\": \"\"}, \"colorscale\": [[0.0, \"#0d0887\"], [0.1111111111111111, \"#46039f\"], [0.2222222222222222, \"#7201a8\"], [0.3333333333333333, \"#9c179e\"], [0.4444444444444444, \"#bd3786\"], [0.5555555555555556, \"#d8576b\"], [0.6666666666666666, \"#ed7953\"], [0.7777777777777778, \"#fb9f3a\"], [0.8888888888888888, \"#fdca26\"], [1.0, \"#f0f921\"]], \"type\": \"contour\"}], \"contourcarpet\": [{\"colorbar\": {\"outlinewidth\": 0, \"ticks\": \"\"}, \"type\": \"contourcarpet\"}], \"heatmap\": [{\"colorbar\": {\"outlinewidth\": 0, \"ticks\": \"\"}, \"colorscale\": [[0.0, \"#0d0887\"], [0.1111111111111111, \"#46039f\"], [0.2222222222222222, \"#7201a8\"], [0.3333333333333333, \"#9c179e\"], [0.4444444444444444, \"#bd3786\"], [0.5555555555555556, \"#d8576b\"], [0.6666666666666666, \"#ed7953\"], [0.7777777777777778, \"#fb9f3a\"], [0.8888888888888888, \"#fdca26\"], [1.0, \"#f0f921\"]], \"type\": \"heatmap\"}], \"heatmapgl\": [{\"colorbar\": {\"outlinewidth\": 0, \"ticks\": \"\"}, \"colorscale\": [[0.0, \"#0d0887\"], [0.1111111111111111, \"#46039f\"], [0.2222222222222222, \"#7201a8\"], [0.3333333333333333, \"#9c179e\"], [0.4444444444444444, \"#bd3786\"], [0.5555555555555556, \"#d8576b\"], [0.6666666666666666, \"#ed7953\"], [0.7777777777777778, \"#fb9f3a\"], [0.8888888888888888, \"#fdca26\"], [1.0, \"#f0f921\"]], \"type\": \"heatmapgl\"}], \"histogram\": [{\"marker\": {\"colorbar\": {\"outlinewidth\": 0, \"ticks\": \"\"}}, \"type\": \"histogram\"}], \"histogram2d\": [{\"colorbar\": {\"outlinewidth\": 0, \"ticks\": \"\"}, \"colorscale\": [[0.0, \"#0d0887\"], [0.1111111111111111, \"#46039f\"], [0.2222222222222222, \"#7201a8\"], [0.3333333333333333, \"#9c179e\"], [0.4444444444444444, \"#bd3786\"], [0.5555555555555556, \"#d8576b\"], [0.6666666666666666, \"#ed7953\"], [0.7777777777777778, \"#fb9f3a\"], [0.8888888888888888, \"#fdca26\"], [1.0, \"#f0f921\"]], \"type\": \"histogram2d\"}], \"histogram2dcontour\": [{\"colorbar\": {\"outlinewidth\": 0, \"ticks\": \"\"}, \"colorscale\": [[0.0, \"#0d0887\"], [0.1111111111111111, \"#46039f\"], [0.2222222222222222, \"#7201a8\"], [0.3333333333333333, \"#9c179e\"], [0.4444444444444444, \"#bd3786\"], [0.5555555555555556, \"#d8576b\"], [0.6666666666666666, \"#ed7953\"], [0.7777777777777778, \"#fb9f3a\"], [0.8888888888888888, \"#fdca26\"], [1.0, \"#f0f921\"]], \"type\": \"histogram2dcontour\"}], \"mesh3d\": [{\"colorbar\": {\"outlinewidth\": 0, \"ticks\": \"\"}, \"type\": \"mesh3d\"}], \"parcoords\": [{\"line\": {\"colorbar\": {\"outlinewidth\": 0, \"ticks\": \"\"}}, \"type\": \"parcoords\"}], \"scatter\": [{\"marker\": {\"colorbar\": {\"outlinewidth\": 0, \"ticks\": \"\"}}, \"type\": \"scatter\"}], \"scatter3d\": [{\"line\": {\"colorbar\": {\"outlinewidth\": 0, \"ticks\": \"\"}}, \"marker\": {\"colorbar\": {\"outlinewidth\": 0, \"ticks\": \"\"}}, \"type\": \"scatter3d\"}], \"scattercarpet\": [{\"marker\": {\"colorbar\": {\"outlinewidth\": 0, \"ticks\": \"\"}}, \"type\": \"scattercarpet\"}], \"scattergeo\": [{\"marker\": {\"colorbar\": {\"outlinewidth\": 0, \"ticks\": \"\"}}, \"type\": \"scattergeo\"}], \"scattergl\": [{\"marker\": {\"colorbar\": {\"outlinewidth\": 0, \"ticks\": \"\"}}, \"type\": \"scattergl\"}], \"scattermapbox\": [{\"marker\": {\"colorbar\": {\"outlinewidth\": 0, \"ticks\": \"\"}}, \"type\": \"scattermapbox\"}], \"scatterpolar\": [{\"marker\": {\"colorbar\": {\"outlinewidth\": 0, \"ticks\": \"\"}}, \"type\": \"scatterpolar\"}], \"scatterpolargl\": [{\"marker\": {\"colorbar\": {\"outlinewidth\": 0, \"ticks\": \"\"}}, \"type\": \"scatterpolargl\"}], \"scatterternary\": [{\"marker\": {\"colorbar\": {\"outlinewidth\": 0, \"ticks\": \"\"}}, \"type\": \"scatterternary\"}], \"surface\": [{\"colorbar\": {\"outlinewidth\": 0, \"ticks\": \"\"}, \"colorscale\": [[0.0, \"#0d0887\"], [0.1111111111111111, \"#46039f\"], [0.2222222222222222, \"#7201a8\"], [0.3333333333333333, \"#9c179e\"], [0.4444444444444444, \"#bd3786\"], [0.5555555555555556, \"#d8576b\"], [0.6666666666666666, \"#ed7953\"], [0.7777777777777778, \"#fb9f3a\"], [0.8888888888888888, \"#fdca26\"], [1.0, \"#f0f921\"]], \"type\": \"surface\"}], \"table\": [{\"cells\": {\"fill\": {\"color\": \"#EBF0F8\"}, \"line\": {\"color\": \"white\"}}, \"header\": {\"fill\": {\"color\": \"#C8D4E3\"}, \"line\": {\"color\": \"white\"}}, \"type\": \"table\"}]}, \"layout\": {\"annotationdefaults\": {\"arrowcolor\": \"#2a3f5f\", \"arrowhead\": 0, \"arrowwidth\": 1}, \"colorscale\": {\"diverging\": [[0, \"#8e0152\"], [0.1, \"#c51b7d\"], [0.2, \"#de77ae\"], [0.3, \"#f1b6da\"], [0.4, \"#fde0ef\"], [0.5, \"#f7f7f7\"], [0.6, \"#e6f5d0\"], [0.7, \"#b8e186\"], [0.8, \"#7fbc41\"], [0.9, \"#4d9221\"], [1, \"#276419\"]], \"sequential\": [[0.0, \"#0d0887\"], [0.1111111111111111, \"#46039f\"], [0.2222222222222222, \"#7201a8\"], [0.3333333333333333, \"#9c179e\"], [0.4444444444444444, \"#bd3786\"], [0.5555555555555556, \"#d8576b\"], [0.6666666666666666, \"#ed7953\"], [0.7777777777777778, \"#fb9f3a\"], [0.8888888888888888, \"#fdca26\"], [1.0, \"#f0f921\"]], \"sequentialminus\": [[0.0, \"#0d0887\"], [0.1111111111111111, \"#46039f\"], [0.2222222222222222, \"#7201a8\"], [0.3333333333333333, \"#9c179e\"], [0.4444444444444444, \"#bd3786\"], [0.5555555555555556, \"#d8576b\"], [0.6666666666666666, \"#ed7953\"], [0.7777777777777778, \"#fb9f3a\"], [0.8888888888888888, \"#fdca26\"], [1.0, \"#f0f921\"]]}, \"colorway\": [\"#636efa\", \"#EF553B\", \"#00cc96\", \"#ab63fa\", \"#FFA15A\", \"#19d3f3\", \"#FF6692\", \"#B6E880\", \"#FF97FF\", \"#FECB52\"], \"font\": {\"color\": \"#2a3f5f\"}, \"geo\": {\"bgcolor\": \"white\", \"lakecolor\": \"white\", \"landcolor\": \"#E5ECF6\", \"showlakes\": true, \"showland\": true, \"subunitcolor\": \"white\"}, \"hoverlabel\": {\"align\": \"left\"}, \"hovermode\": \"closest\", \"mapbox\": {\"style\": \"light\"}, \"paper_bgcolor\": \"white\", \"plot_bgcolor\": \"#E5ECF6\", \"polar\": {\"angularaxis\": {\"gridcolor\": \"white\", \"linecolor\": \"white\", \"ticks\": \"\"}, \"bgcolor\": \"#E5ECF6\", \"radialaxis\": {\"gridcolor\": \"white\", \"linecolor\": \"white\", \"ticks\": \"\"}}, \"scene\": {\"xaxis\": {\"backgroundcolor\": \"#E5ECF6\", \"gridcolor\": \"white\", \"gridwidth\": 2, \"linecolor\": \"white\", \"showbackground\": true, \"ticks\": \"\", \"zerolinecolor\": \"white\"}, \"yaxis\": {\"backgroundcolor\": \"#E5ECF6\", \"gridcolor\": \"white\", \"gridwidth\": 2, \"linecolor\": \"white\", \"showbackground\": true, \"ticks\": \"\", \"zerolinecolor\": \"white\"}, \"zaxis\": {\"backgroundcolor\": \"#E5ECF6\", \"gridcolor\": \"white\", \"gridwidth\": 2, \"linecolor\": \"white\", \"showbackground\": true, \"ticks\": \"\", \"zerolinecolor\": \"white\"}}, \"shapedefaults\": {\"line\": {\"color\": \"#2a3f5f\"}}, \"ternary\": {\"aaxis\": {\"gridcolor\": \"white\", \"linecolor\": \"white\", \"ticks\": \"\"}, \"baxis\": {\"gridcolor\": \"white\", \"linecolor\": \"white\", \"ticks\": \"\"}, \"bgcolor\": \"#E5ECF6\", \"caxis\": {\"gridcolor\": \"white\", \"linecolor\": \"white\", \"ticks\": \"\"}}, \"title\": {\"x\": 0.05}, \"xaxis\": {\"automargin\": true, \"gridcolor\": \"white\", \"linecolor\": \"white\", \"ticks\": \"\", \"zerolinecolor\": \"white\", \"zerolinewidth\": 2}, \"yaxis\": {\"automargin\": true, \"gridcolor\": \"white\", \"linecolor\": \"white\", \"ticks\": \"\", \"zerolinecolor\": \"white\", \"zerolinewidth\": 2}}}},\n",
              "                        {\"responsive\": true}\n",
              "                    ).then(function(){\n",
              "                            \n",
              "var gd = document.getElementById('57b17065-4c08-46d6-9c9d-3412ad72edc3');\n",
              "var x = new MutationObserver(function (mutations, observer) {{\n",
              "        var display = window.getComputedStyle(gd).display;\n",
              "        if (!display || display === 'none') {{\n",
              "            console.log([gd, 'removed!']);\n",
              "            Plotly.purge(gd);\n",
              "            observer.disconnect();\n",
              "        }}\n",
              "}});\n",
              "\n",
              "// Listen for the removal of the full notebook cells\n",
              "var notebookContainer = gd.closest('#notebook-container');\n",
              "if (notebookContainer) {{\n",
              "    x.observe(notebookContainer, {childList: true});\n",
              "}}\n",
              "\n",
              "// Listen for the clearing of the current output cell\n",
              "var outputEl = gd.closest('.output');\n",
              "if (outputEl) {{\n",
              "    x.observe(outputEl, {childList: true});\n",
              "}}\n",
              "\n",
              "                        })\n",
              "                };\n",
              "                \n",
              "            </script>\n",
              "        </div>\n",
              "</body>\n",
              "</html>"
            ]
          },
          "metadata": {
            "tags": []
          }
        },
        {
          "output_type": "stream",
          "text": [
            "time: 1.38 s\n"
          ],
          "name": "stdout"
        }
      ]
    },
    {
      "cell_type": "code",
      "metadata": {
        "id": "q5J9-K0WmBml",
        "colab_type": "code",
        "outputId": "5284c031-8764-48ca-faac-0af34038689e",
        "colab": {
          "base_uri": "https://localhost:8080/",
          "height": 51
        }
      },
      "source": [
        "# ---\n",
        "# données utilisées dans la partie 1\n",
        "# ---\n",
        "x1 = np.array([\n",
        "    -3.06, -0.71, 11.99, 1.42, 1.84, 13.1, 4.19, -8.06, -3.96, -2.24,\n",
        "    9.61, 3.47, 3.77\n",
        "])\n",
        "x2 = np.array([\n",
        "    12.57, 7.44, 2.97, 10.35, 10.24, 9.89, 9.07, 8.23, 4.42, 2.9,\n",
        "    2.44, 0.49, 3.51, -3.05, 18.25, 12.29\n",
        "])\n",
        "\n",
        "student_law_degree = len(x1)+len(x2)-2\n",
        "\n",
        "t_obs = calculeT(x1, x2)\n",
        "print(f\"Réponse question 5, t_obs={t_obs}\")"
      ],
      "execution_count": 0,
      "outputs": [
        {
          "output_type": "stream",
          "text": [
            "Réponse question 5, t_obs=2.1114119537498905\n",
            "time: 6.89 ms\n"
          ],
          "name": "stdout"
        }
      ]
    },
    {
      "cell_type": "markdown",
      "metadata": {
        "id": "2H2tSP0pfmXH",
        "colab_type": "text"
      },
      "source": [
        "# **1.6** En utilisant les fonctions de scipy.stats, calculer $c$ dans notre cas si $\\alpha = 0.05$. Quelle décision prend le test de Student ?"
      ]
    },
    {
      "cell_type": "code",
      "metadata": {
        "id": "MDecOKxPc_x7",
        "colab_type": "code",
        "outputId": "e6829ee4-9ce9-48ae-a5e5-51eaa932ea37",
        "colab": {
          "base_uri": "https://localhost:8080/",
          "height": 51
        }
      },
      "source": [
        "print(f\"Réponse question 6, c={stats.t.ppf(0.95, student_law_degree)}\")"
      ],
      "execution_count": 0,
      "outputs": [
        {
          "output_type": "stream",
          "text": [
            "Réponse question 6, c=1.7032884457221265\n",
            "time: 7.01 ms\n"
          ],
          "name": "stdout"
        }
      ]
    },
    {
      "cell_type": "markdown",
      "metadata": {
        "id": "Cmc2UQg_dA_w",
        "colab_type": "text"
      },
      "source": [
        "On a $t^{obs} > c$, on prend donc la décision alternative, en rejetant l'hypothèse nulle. En effet, on a calculé précédement que si l'hypothèse nulle $H_0$ est vraie, on a $P(T > c) =\\alpha = 0.05$, il est donc plus probable que $H_0$ soit fausse."
      ]
    },
    {
      "cell_type": "markdown",
      "metadata": {
        "id": "NoUfwJoVf9Rt",
        "colab_type": "text"
      },
      "source": [
        "# **1.7** Montrer que la $p$-value est donnée ici par $p(X,Y) = 1 - \\Phi_{m+n-2}(T)$. Quelle est la valeur observée de la $p$-value ?"
      ]
    },
    {
      "cell_type": "markdown",
      "metadata": {
        "id": "S9TrrKqj9Z7C",
        "colab_type": "text"
      },
      "source": [
        "On cherche $p$ la valeur du plus petit test que nos données nous permettent de passer. Autrement dit, on cherche à minimiser $\\alpha = P(T > c)$ d'après **1.4**. Comme $P(T > c) =P(T \\geq c)$ est décroissant en $c$, il suffit de choisir $c = T$ pour minimiser $\\alpha$. De plus, on sait que $c =1 - \\Phi^{-1}_{m+n-2}(\\alpha) \\iff  \\alpha = 1 - \\Phi_{m+n-2}(c) $ d'où $p = 1 - \\Phi_{m+n-2}(T)$."
      ]
    },
    {
      "cell_type": "code",
      "metadata": {
        "id": "VLUhL9RCctNo",
        "colab_type": "code",
        "outputId": "f309d135-cf18-4d72-903b-e6cb2d672237",
        "colab": {
          "base_uri": "https://localhost:8080/",
          "height": 51
        }
      },
      "source": [
        "p_value = calculePvalue(t_obs, student_law_degree)\n",
        "print(f\"Réponse question 7, p_value={p_value}\")"
      ],
      "execution_count": 0,
      "outputs": [
        {
          "output_type": "stream",
          "text": [
            "Réponse question 7, p_value=0.02206763583900795\n",
            "time: 7.28 ms\n"
          ],
          "name": "stdout"
        }
      ]
    },
    {
      "cell_type": "markdown",
      "metadata": {
        "id": "nGarYHfdV3eQ",
        "colab_type": "text"
      },
      "source": [
        "# **Partie 2 : Étude de la puissance du test de Student**"
      ]
    },
    {
      "cell_type": "markdown",
      "metadata": {
        "id": "sraRjvn3V23Z",
        "colab_type": "text"
      },
      "source": [
        "## **2.1** $\\star$ Montrer que la loi de $T$ ne dépend pas de $\\mu_X$, mais uniquement de $\\Delta$ et $\\sigma^2$. Dans toute la suite, on fixera $\\mu_X = 0.92$ si on a besoin d'une valeur numérique."
      ]
    },
    {
      "cell_type": "markdown",
      "metadata": {
        "id": "nvcy0RuiRHcb",
        "colab_type": "text"
      },
      "source": [
        "On note X$_1$ $\\sim N\\Big(\\mu_1, \\sigma^2\\Big)$, Y$_1$ $\\sim N\\Big(\\mu_1 + \\Delta, \\sigma^2\\Big)$\n",
        "\n",
        "et X$_2$ = X$_1$ + $\\epsilon$, et Y$_2$ = Y$_1$ + $\\epsilon$ avec $\\epsilon \\in \\mathbb{R}$. (On a donc $\\mu_2 = \\mu_1 + \\epsilon$)\n",
        "\n",
        "On note également $T_1 = \\frac{\\bar Y_1 - \\bar X_1}{\\sqrt{S_{1,p}^2\\left(\\frac1m+\\frac1n\\right)}}$ et $T_2 = \\frac{\\bar Y_2 - \\bar X_2}{\\sqrt{S_{2,p}^2\\left(\\frac1m+\\frac1n\\right)}}$.\n",
        "\n",
        "\n",
        "On veut montrer $T_1 = T_2$.\n",
        "\n",
        "On a :\n",
        "\n",
        "* $\\bar{X_2} = \\frac{1}{m} \\sum_{i=1}^m X_{2,i} = \\frac{1}{m} \\sum_{i=1}^m (X_{1,i} + \\epsilon) = \\bar{X_1} + \\epsilon$\n",
        "\n",
        "* $\\bar{Y_2} = \\frac{1}{n} \\sum_{j=1}^n Y_{2,j} = \\frac{1}{n} \\sum_{j=1}^n (Y_{1,j} + \\epsilon) = \\bar{Y_1} + \\epsilon$\n",
        "\n",
        "* $S_{X_2}^2 = \\frac{1}{m-1}\\sum_{i=1}^m(X_{2,i} - \\bar{X_2}) = \\frac{1}{m-1}\\sum_{i=1}^m(X_{1,i} - \\bar{X_1}) = S_{X_1}^2$\n",
        "\n",
        "* $S_{Y_2}^2 = \\frac{1}{n-1}\\sum_{j=1}^n(Y_{2,j} - \\bar{Y_2}) = \\frac{1}{n-1}\\sum_{j=1}^n(Y_{1,j} - \\bar{Y_1}) = S_{Y_1}^2$\n",
        "\n",
        "d'où $S_{1,p}^2 = S_{2,p}^2$ et $T_1 = T_2$.\n",
        "$\\square$\n"
      ]
    },
    {
      "cell_type": "markdown",
      "metadata": {
        "id": "V6MHtupXWKsn",
        "colab_type": "text"
      },
      "source": [
        "## **2.2** Écrire une fonction nommée `simuleT` qui prend en entrée les valeurs de $\\Delta$ et $\\sigma^2$ et qui fait les choses suivantes:\n",
        "* elle simule un vecteur $(X_1,\\ldots, X_m)$ et un vecteur $(Y_1,\\ldots, Y_n)$, de longueurs respectives $m=13$ et $n=17$;\n",
        "* elle calcule et renvoie la valeur de $T$ de l'équation (3), en utilisant la fonction `calculeT`."
      ]
    },
    {
      "cell_type": "code",
      "metadata": {
        "id": "V3_A-JHcLhks",
        "colab_type": "code",
        "outputId": "bc83e9ae-9528-4303-a6dd-5eabf9273433",
        "colab": {
          "base_uri": "https://localhost:8080/",
          "height": 34
        }
      },
      "source": [
        "def genereDonnees(delta, sigma, n_samples_x1=13, n_samples_x2=17):\n",
        "    \"\"\"\n",
        "    Parameters\n",
        "    ----------\n",
        "    delta : integer\n",
        "    sigma : integer\n",
        "    n_samples_x1 : integer\n",
        "    n_samples_x2 : integer\n",
        "    \"\"\"\n",
        "    # paramètre fixé\n",
        "    mean_x1 = 0.92\n",
        "\n",
        "    x1 = np.random.normal(mean_x1, sigma, (n_samples_x1, 1))\n",
        "    x2 = np.random.normal(mean_x1 + delta, sigma, (n_samples_x2, 1))\n",
        "\n",
        "    return x1, x2"
      ],
      "execution_count": 0,
      "outputs": [
        {
          "output_type": "stream",
          "text": [
            "time: 9.47 ms\n"
          ],
          "name": "stdout"
        }
      ]
    },
    {
      "cell_type": "code",
      "metadata": {
        "id": "f1HibpuCWKaJ",
        "colab_type": "code",
        "outputId": "279b12ea-7c8c-4b36-db2d-59909def6cad",
        "colab": {
          "base_uri": "https://localhost:8080/",
          "height": 51
        }
      },
      "source": [
        "def simuleT(delta, sigma, n_samples_x1=13, n_samples_x2=17):\n",
        "    \"\"\"\n",
        "    Parameters\n",
        "    ----------\n",
        "    delta : integer\n",
        "    sigma : integer\n",
        "    n_samples_x1 : integer\n",
        "    n_samples_x2 : integer\n",
        "    \"\"\"\n",
        "    x1, x2 = genereDonnees(delta, sigma, n_samples_x1, n_samples_x2)\n",
        "    return calculeT(x1, x2)\n",
        "\n",
        "delta = 0.1\n",
        "sigma = np.sqrt(1)\n",
        "print(f\"T pour delta={delta} et sigma={sigma} : {simuleT(delta, sigma)}\")"
      ],
      "execution_count": 0,
      "outputs": [
        {
          "output_type": "stream",
          "text": [
            "T pour delta=0.1 et sigma=1.0 : -0.3688799180769807\n",
            "time: 7.44 ms\n"
          ],
          "name": "stdout"
        }
      ]
    },
    {
      "cell_type": "markdown",
      "metadata": {
        "id": "CPB539FuYuqB",
        "colab_type": "text"
      },
      "source": [
        "## **2.3** Écrire une fonction `puissT` qui prend en entrée les valeurs de $\\Delta$, $\\sigma^2$, $\\alpha$ et $N$ et qui fait les choses suivantes :\n",
        "* elle simule $N$ valeurs de $T$ indépendantes;\n",
        "* elle calcule et renvoie le nombre de fois où $T\\ge \\Phi_{m+n-2}^{-1}(1-\\alpha)$"
      ]
    },
    {
      "cell_type": "code",
      "metadata": {
        "id": "D4thMOviZ1_s",
        "colab_type": "code",
        "outputId": "959c76b6-01f2-41b1-b04f-f8b416752ffe",
        "colab": {
          "base_uri": "https://localhost:8080/",
          "height": 34
        }
      },
      "source": [
        "def puissT(delta, sigma, alpha, n_simulations):\n",
        "    \"\"\"\n",
        "    Parameters\n",
        "    ----------\n",
        "    delta : integer\n",
        "    sigma : integer\n",
        "    alpha : integer\n",
        "    n_simulations : integer\n",
        "    \"\"\"\n",
        "    n_rejections = 0\n",
        "\n",
        "    c = stats.t.ppf((1-alpha), (13+17-2))\n",
        "\n",
        "    for _ in range(n_simulations):\n",
        "        if simuleT(delta, sigma) >= c:\n",
        "            n_rejections += 1\n",
        "    \n",
        "    return n_rejections / n_simulations"
      ],
      "execution_count": 0,
      "outputs": [
        {
          "output_type": "stream",
          "text": [
            "time: 8 ms\n"
          ],
          "name": "stdout"
        }
      ]
    },
    {
      "cell_type": "markdown",
      "metadata": {
        "id": "PWxZteHhYyZ1",
        "colab_type": "text"
      },
      "source": [
        "## **2.4** En utilisant cette fonction pour $\\sigma^2=20$ et $N=10^3$, approcher les valeurs de $\\beta(\\theta)$ pour les $16$ valeurs entières de $\\Delta$ entre $0$ et $15$. Représenter graphiquement ces approximations en fonction de $\\Delta$.\n",
        "\n",
        "## **2.5** Même question pour $\\sigma^2 = 30$.\n",
        "\n",
        "## **2.6** Même question pour $\\sigma^2 = 40$."
      ]
    },
    {
      "cell_type": "code",
      "metadata": {
        "id": "cPlGe-gikvzf",
        "colab_type": "code",
        "outputId": "ac527c80-3097-442b-a647-e23cb938efbd",
        "colab": {
          "base_uri": "https://localhost:8080/",
          "height": 34
        }
      },
      "source": [
        "DELTAS = range(16)\n",
        "ALPHA = 0.05\n",
        "SIGMAS = [20, 30, 40]\n",
        "\n",
        "RESULTS = {}\n",
        "\n",
        "def plot_experience(results, sigmas):\n",
        "    traces = []\n",
        "    for exp_name, exp_value in results.items():\n",
        "        for sigma, value in zip(sigmas, exp_value):\n",
        "            traces.append(\n",
        "                go.Scatter(\n",
        "                    y=value,\n",
        "                    mode='lines',\n",
        "                    name=f'sigma={sigma} ({exp_name})'\n",
        "                )\n",
        "            )\n",
        "\n",
        "    fig = go.Figure(\n",
        "        data=traces,\n",
        "        layout={\n",
        "            'legend': {\n",
        "                'orientation': 'v'\n",
        "            },\n",
        "            'title': f\"étude de la puissance du test en fonction de delta\",\n",
        "            'xaxis_title': \"delta (mu2 - mu1)\",\n",
        "            'yaxis_title': f\"puissance du test\"\n",
        "        }\n",
        "    )\n",
        "    fig.show()\n",
        "\n",
        "def filter_results(results, search_keys):\n",
        "    filtered_results = dict()\n",
        "    for key, value in results.items():\n",
        "        for search_key in search_keys:\n",
        "            if search_key in key:\n",
        "                filtered_results[key] = value\n",
        "    return filtered_results"
      ],
      "execution_count": 0,
      "outputs": [
        {
          "output_type": "stream",
          "text": [
            "time: 16.7 ms\n"
          ],
          "name": "stdout"
        }
      ]
    },
    {
      "cell_type": "code",
      "metadata": {
        "id": "LRVC1nuCiL3n",
        "colab_type": "code",
        "outputId": "a704e53c-70b1-4909-a1d7-8cad7c37272e",
        "colab": {
          "base_uri": "https://localhost:8080/",
          "height": 34
        }
      },
      "source": [
        "def run_experience_1(deltas, sigmas, alpha, n_simulations):\n",
        "    results = []\n",
        "\n",
        "    for sigma in sigmas:\n",
        "        result = []\n",
        "        for delta in deltas:\n",
        "            result.append(puissT(delta, np.sqrt(sigma), alpha, n_simulations))\n",
        "        results.append(result)\n",
        "    \n",
        "    return results\n",
        "\n",
        "n_simulations = 10**3\n",
        "exp_name = f\"exp1 : N={n_simulations}\"\n",
        "RESULTS[exp_name] = run_experience_1(DELTAS, SIGMAS, ALPHA, n_simulations)"
      ],
      "execution_count": 0,
      "outputs": [
        {
          "output_type": "stream",
          "text": [
            "time: 1.81 s\n"
          ],
          "name": "stdout"
        }
      ]
    },
    {
      "cell_type": "code",
      "metadata": {
        "id": "ijMtLEbElcZw",
        "colab_type": "code",
        "outputId": "1fe4908c-674d-4301-96ae-accb8e73603e",
        "colab": {
          "base_uri": "https://localhost:8080/",
          "height": 559
        }
      },
      "source": [
        "plot_experience(RESULTS, SIGMAS)"
      ],
      "execution_count": 0,
      "outputs": [
        {
          "output_type": "display_data",
          "data": {
            "text/html": [
              "<html>\n",
              "<head><meta charset=\"utf-8\" /></head>\n",
              "<body>\n",
              "    <div>\n",
              "            <script src=\"https://cdnjs.cloudflare.com/ajax/libs/mathjax/2.7.5/MathJax.js?config=TeX-AMS-MML_SVG\"></script><script type=\"text/javascript\">if (window.MathJax) {MathJax.Hub.Config({SVG: {font: \"STIX-Web\"}});}</script>\n",
              "                <script type=\"text/javascript\">window.PlotlyConfig = {MathJaxConfig: 'local'};</script>\n",
              "        <script src=\"https://cdn.plot.ly/plotly-latest.min.js\"></script>    \n",
              "            <div id=\"afcedc43-ac73-4995-b06f-0b0ddc8003a9\" class=\"plotly-graph-div\" style=\"height:525px; width:100%;\"></div>\n",
              "            <script type=\"text/javascript\">\n",
              "                \n",
              "                    window.PLOTLYENV=window.PLOTLYENV || {};\n",
              "                    \n",
              "                if (document.getElementById(\"afcedc43-ac73-4995-b06f-0b0ddc8003a9\")) {\n",
              "                    Plotly.newPlot(\n",
              "                        'afcedc43-ac73-4995-b06f-0b0ddc8003a9',\n",
              "                        [{\"mode\": \"lines\", \"name\": \"sigma=20 (exp1 : N=1000)\", \"type\": \"scatter\", \"y\": [0.041, 0.147, 0.332, 0.572, 0.765, 0.909, 0.973, 0.998, 0.999, 1.0, 1.0, 1.0, 1.0, 1.0, 1.0, 1.0]}, {\"mode\": \"lines\", \"name\": \"sigma=30 (exp1 : N=1000)\", \"type\": \"scatter\", \"y\": [0.063, 0.108, 0.249, 0.414, 0.623, 0.789, 0.888, 0.955, 0.993, 0.996, 0.999, 0.999, 1.0, 1.0, 1.0, 1.0]}, {\"mode\": \"lines\", \"name\": \"sigma=40 (exp1 : N=1000)\", \"type\": \"scatter\", \"y\": [0.045, 0.106, 0.206, 0.341, 0.543, 0.679, 0.79, 0.894, 0.952, 0.975, 0.997, 0.999, 1.0, 0.999, 1.0, 1.0]}],\n",
              "                        {\"legend\": {\"orientation\": \"v\"}, \"template\": {\"data\": {\"bar\": [{\"error_x\": {\"color\": \"#2a3f5f\"}, \"error_y\": {\"color\": \"#2a3f5f\"}, \"marker\": {\"line\": {\"color\": \"#E5ECF6\", \"width\": 0.5}}, \"type\": \"bar\"}], \"barpolar\": [{\"marker\": {\"line\": {\"color\": \"#E5ECF6\", \"width\": 0.5}}, \"type\": \"barpolar\"}], \"carpet\": [{\"aaxis\": {\"endlinecolor\": \"#2a3f5f\", \"gridcolor\": \"white\", \"linecolor\": \"white\", \"minorgridcolor\": \"white\", \"startlinecolor\": \"#2a3f5f\"}, \"baxis\": {\"endlinecolor\": \"#2a3f5f\", \"gridcolor\": \"white\", \"linecolor\": \"white\", \"minorgridcolor\": \"white\", \"startlinecolor\": \"#2a3f5f\"}, \"type\": \"carpet\"}], \"choropleth\": [{\"colorbar\": {\"outlinewidth\": 0, \"ticks\": \"\"}, \"type\": \"choropleth\"}], \"contour\": [{\"colorbar\": {\"outlinewidth\": 0, \"ticks\": \"\"}, \"colorscale\": [[0.0, \"#0d0887\"], [0.1111111111111111, \"#46039f\"], [0.2222222222222222, \"#7201a8\"], [0.3333333333333333, \"#9c179e\"], [0.4444444444444444, \"#bd3786\"], [0.5555555555555556, \"#d8576b\"], [0.6666666666666666, \"#ed7953\"], [0.7777777777777778, \"#fb9f3a\"], [0.8888888888888888, \"#fdca26\"], [1.0, \"#f0f921\"]], \"type\": \"contour\"}], \"contourcarpet\": [{\"colorbar\": {\"outlinewidth\": 0, \"ticks\": \"\"}, \"type\": \"contourcarpet\"}], \"heatmap\": [{\"colorbar\": {\"outlinewidth\": 0, \"ticks\": \"\"}, \"colorscale\": [[0.0, \"#0d0887\"], [0.1111111111111111, \"#46039f\"], [0.2222222222222222, \"#7201a8\"], [0.3333333333333333, \"#9c179e\"], [0.4444444444444444, \"#bd3786\"], [0.5555555555555556, \"#d8576b\"], [0.6666666666666666, \"#ed7953\"], [0.7777777777777778, \"#fb9f3a\"], [0.8888888888888888, \"#fdca26\"], [1.0, \"#f0f921\"]], \"type\": \"heatmap\"}], \"heatmapgl\": [{\"colorbar\": {\"outlinewidth\": 0, \"ticks\": \"\"}, \"colorscale\": [[0.0, \"#0d0887\"], [0.1111111111111111, \"#46039f\"], [0.2222222222222222, \"#7201a8\"], [0.3333333333333333, \"#9c179e\"], [0.4444444444444444, \"#bd3786\"], [0.5555555555555556, \"#d8576b\"], [0.6666666666666666, \"#ed7953\"], [0.7777777777777778, \"#fb9f3a\"], [0.8888888888888888, \"#fdca26\"], [1.0, \"#f0f921\"]], \"type\": \"heatmapgl\"}], \"histogram\": [{\"marker\": {\"colorbar\": {\"outlinewidth\": 0, \"ticks\": \"\"}}, \"type\": \"histogram\"}], \"histogram2d\": [{\"colorbar\": {\"outlinewidth\": 0, \"ticks\": \"\"}, \"colorscale\": [[0.0, \"#0d0887\"], [0.1111111111111111, \"#46039f\"], [0.2222222222222222, \"#7201a8\"], [0.3333333333333333, \"#9c179e\"], [0.4444444444444444, \"#bd3786\"], [0.5555555555555556, \"#d8576b\"], [0.6666666666666666, \"#ed7953\"], [0.7777777777777778, \"#fb9f3a\"], [0.8888888888888888, \"#fdca26\"], [1.0, \"#f0f921\"]], \"type\": \"histogram2d\"}], \"histogram2dcontour\": [{\"colorbar\": {\"outlinewidth\": 0, \"ticks\": \"\"}, \"colorscale\": [[0.0, \"#0d0887\"], [0.1111111111111111, \"#46039f\"], [0.2222222222222222, \"#7201a8\"], [0.3333333333333333, \"#9c179e\"], [0.4444444444444444, \"#bd3786\"], [0.5555555555555556, \"#d8576b\"], [0.6666666666666666, \"#ed7953\"], [0.7777777777777778, \"#fb9f3a\"], [0.8888888888888888, \"#fdca26\"], [1.0, \"#f0f921\"]], \"type\": \"histogram2dcontour\"}], \"mesh3d\": [{\"colorbar\": {\"outlinewidth\": 0, \"ticks\": \"\"}, \"type\": \"mesh3d\"}], \"parcoords\": [{\"line\": {\"colorbar\": {\"outlinewidth\": 0, \"ticks\": \"\"}}, \"type\": \"parcoords\"}], \"scatter\": [{\"marker\": {\"colorbar\": {\"outlinewidth\": 0, \"ticks\": \"\"}}, \"type\": \"scatter\"}], \"scatter3d\": [{\"line\": {\"colorbar\": {\"outlinewidth\": 0, \"ticks\": \"\"}}, \"marker\": {\"colorbar\": {\"outlinewidth\": 0, \"ticks\": \"\"}}, \"type\": \"scatter3d\"}], \"scattercarpet\": [{\"marker\": {\"colorbar\": {\"outlinewidth\": 0, \"ticks\": \"\"}}, \"type\": \"scattercarpet\"}], \"scattergeo\": [{\"marker\": {\"colorbar\": {\"outlinewidth\": 0, \"ticks\": \"\"}}, \"type\": \"scattergeo\"}], \"scattergl\": [{\"marker\": {\"colorbar\": {\"outlinewidth\": 0, \"ticks\": \"\"}}, \"type\": \"scattergl\"}], \"scattermapbox\": [{\"marker\": {\"colorbar\": {\"outlinewidth\": 0, \"ticks\": \"\"}}, \"type\": \"scattermapbox\"}], \"scatterpolar\": [{\"marker\": {\"colorbar\": {\"outlinewidth\": 0, \"ticks\": \"\"}}, \"type\": \"scatterpolar\"}], \"scatterpolargl\": [{\"marker\": {\"colorbar\": {\"outlinewidth\": 0, \"ticks\": \"\"}}, \"type\": \"scatterpolargl\"}], \"scatterternary\": [{\"marker\": {\"colorbar\": {\"outlinewidth\": 0, \"ticks\": \"\"}}, \"type\": \"scatterternary\"}], \"surface\": [{\"colorbar\": {\"outlinewidth\": 0, \"ticks\": \"\"}, \"colorscale\": [[0.0, \"#0d0887\"], [0.1111111111111111, \"#46039f\"], [0.2222222222222222, \"#7201a8\"], [0.3333333333333333, \"#9c179e\"], [0.4444444444444444, \"#bd3786\"], [0.5555555555555556, \"#d8576b\"], [0.6666666666666666, \"#ed7953\"], [0.7777777777777778, \"#fb9f3a\"], [0.8888888888888888, \"#fdca26\"], [1.0, \"#f0f921\"]], \"type\": \"surface\"}], \"table\": [{\"cells\": {\"fill\": {\"color\": \"#EBF0F8\"}, \"line\": {\"color\": \"white\"}}, \"header\": {\"fill\": {\"color\": \"#C8D4E3\"}, \"line\": {\"color\": \"white\"}}, \"type\": \"table\"}]}, \"layout\": {\"annotationdefaults\": {\"arrowcolor\": \"#2a3f5f\", \"arrowhead\": 0, \"arrowwidth\": 1}, \"colorscale\": {\"diverging\": [[0, \"#8e0152\"], [0.1, \"#c51b7d\"], [0.2, \"#de77ae\"], [0.3, \"#f1b6da\"], [0.4, \"#fde0ef\"], [0.5, \"#f7f7f7\"], [0.6, \"#e6f5d0\"], [0.7, \"#b8e186\"], [0.8, \"#7fbc41\"], [0.9, \"#4d9221\"], [1, \"#276419\"]], \"sequential\": [[0.0, \"#0d0887\"], [0.1111111111111111, \"#46039f\"], [0.2222222222222222, \"#7201a8\"], [0.3333333333333333, \"#9c179e\"], [0.4444444444444444, \"#bd3786\"], [0.5555555555555556, \"#d8576b\"], [0.6666666666666666, \"#ed7953\"], [0.7777777777777778, \"#fb9f3a\"], [0.8888888888888888, \"#fdca26\"], [1.0, \"#f0f921\"]], \"sequentialminus\": [[0.0, \"#0d0887\"], [0.1111111111111111, \"#46039f\"], [0.2222222222222222, \"#7201a8\"], [0.3333333333333333, \"#9c179e\"], [0.4444444444444444, \"#bd3786\"], [0.5555555555555556, \"#d8576b\"], [0.6666666666666666, \"#ed7953\"], [0.7777777777777778, \"#fb9f3a\"], [0.8888888888888888, \"#fdca26\"], [1.0, \"#f0f921\"]]}, \"colorway\": [\"#636efa\", \"#EF553B\", \"#00cc96\", \"#ab63fa\", \"#FFA15A\", \"#19d3f3\", \"#FF6692\", \"#B6E880\", \"#FF97FF\", \"#FECB52\"], \"font\": {\"color\": \"#2a3f5f\"}, \"geo\": {\"bgcolor\": \"white\", \"lakecolor\": \"white\", \"landcolor\": \"#E5ECF6\", \"showlakes\": true, \"showland\": true, \"subunitcolor\": \"white\"}, \"hoverlabel\": {\"align\": \"left\"}, \"hovermode\": \"closest\", \"mapbox\": {\"style\": \"light\"}, \"paper_bgcolor\": \"white\", \"plot_bgcolor\": \"#E5ECF6\", \"polar\": {\"angularaxis\": {\"gridcolor\": \"white\", \"linecolor\": \"white\", \"ticks\": \"\"}, \"bgcolor\": \"#E5ECF6\", \"radialaxis\": {\"gridcolor\": \"white\", \"linecolor\": \"white\", \"ticks\": \"\"}}, \"scene\": {\"xaxis\": {\"backgroundcolor\": \"#E5ECF6\", \"gridcolor\": \"white\", \"gridwidth\": 2, \"linecolor\": \"white\", \"showbackground\": true, \"ticks\": \"\", \"zerolinecolor\": \"white\"}, \"yaxis\": {\"backgroundcolor\": \"#E5ECF6\", \"gridcolor\": \"white\", \"gridwidth\": 2, \"linecolor\": \"white\", \"showbackground\": true, \"ticks\": \"\", \"zerolinecolor\": \"white\"}, \"zaxis\": {\"backgroundcolor\": \"#E5ECF6\", \"gridcolor\": \"white\", \"gridwidth\": 2, \"linecolor\": \"white\", \"showbackground\": true, \"ticks\": \"\", \"zerolinecolor\": \"white\"}}, \"shapedefaults\": {\"line\": {\"color\": \"#2a3f5f\"}}, \"ternary\": {\"aaxis\": {\"gridcolor\": \"white\", \"linecolor\": \"white\", \"ticks\": \"\"}, \"baxis\": {\"gridcolor\": \"white\", \"linecolor\": \"white\", \"ticks\": \"\"}, \"bgcolor\": \"#E5ECF6\", \"caxis\": {\"gridcolor\": \"white\", \"linecolor\": \"white\", \"ticks\": \"\"}}, \"title\": {\"x\": 0.05}, \"xaxis\": {\"automargin\": true, \"gridcolor\": \"white\", \"linecolor\": \"white\", \"ticks\": \"\", \"zerolinecolor\": \"white\", \"zerolinewidth\": 2}, \"yaxis\": {\"automargin\": true, \"gridcolor\": \"white\", \"linecolor\": \"white\", \"ticks\": \"\", \"zerolinecolor\": \"white\", \"zerolinewidth\": 2}}}, \"title\": {\"text\": \"\\u00e9tude de la puissance du test en fonction de delta\"}, \"xaxis\": {\"title\": {\"text\": \"delta (mu2 - mu1)\"}}, \"yaxis\": {\"title\": {\"text\": \"puissance du test\"}}},\n",
              "                        {\"responsive\": true}\n",
              "                    ).then(function(){\n",
              "                            \n",
              "var gd = document.getElementById('afcedc43-ac73-4995-b06f-0b0ddc8003a9');\n",
              "var x = new MutationObserver(function (mutations, observer) {{\n",
              "        var display = window.getComputedStyle(gd).display;\n",
              "        if (!display || display === 'none') {{\n",
              "            console.log([gd, 'removed!']);\n",
              "            Plotly.purge(gd);\n",
              "            observer.disconnect();\n",
              "        }}\n",
              "}});\n",
              "\n",
              "// Listen for the removal of the full notebook cells\n",
              "var notebookContainer = gd.closest('#notebook-container');\n",
              "if (notebookContainer) {{\n",
              "    x.observe(notebookContainer, {childList: true});\n",
              "}}\n",
              "\n",
              "// Listen for the clearing of the current output cell\n",
              "var outputEl = gd.closest('.output');\n",
              "if (outputEl) {{\n",
              "    x.observe(outputEl, {childList: true});\n",
              "}}\n",
              "\n",
              "                        })\n",
              "                };\n",
              "                \n",
              "            </script>\n",
              "        </div>\n",
              "</body>\n",
              "</html>"
            ]
          },
          "metadata": {
            "tags": []
          }
        },
        {
          "output_type": "stream",
          "text": [
            "time: 174 ms\n"
          ],
          "name": "stdout"
        }
      ]
    },
    {
      "cell_type": "markdown",
      "metadata": {
        "id": "THuIavLOY7FT",
        "colab_type": "text"
      },
      "source": [
        "## **2.7** Que peut-on faire pour améliorer ces approximations ? Le faire, et constater le résultat."
      ]
    },
    {
      "cell_type": "markdown",
      "metadata": {
        "id": "BSfteHK0Z1oh",
        "colab_type": "text"
      },
      "source": [
        "* On augmente le nombre de simulations"
      ]
    },
    {
      "cell_type": "code",
      "metadata": {
        "id": "3elwsTSoY0Z3",
        "colab_type": "code",
        "outputId": "908b5b09-1817-425a-e828-8b0004b6ad48",
        "colab": {
          "base_uri": "https://localhost:8080/",
          "height": 34
        }
      },
      "source": [
        "n_simulations = 10**4\n",
        "exp_name = f\"exp1 : N={n_simulations}\"\n",
        "RESULTS[exp_name] = run_experience_1(DELTAS, SIGMAS, ALPHA, n_simulations)"
      ],
      "execution_count": 0,
      "outputs": [
        {
          "output_type": "stream",
          "text": [
            "time: 17.4 s\n"
          ],
          "name": "stdout"
        }
      ]
    },
    {
      "cell_type": "code",
      "metadata": {
        "id": "o0PCoATKlgwl",
        "colab_type": "code",
        "outputId": "1908cbc1-1f4d-41ba-ef9a-36c2da1cba1d",
        "colab": {
          "base_uri": "https://localhost:8080/",
          "height": 559
        }
      },
      "source": [
        "plot_experience(RESULTS, SIGMAS)"
      ],
      "execution_count": 0,
      "outputs": [
        {
          "output_type": "display_data",
          "data": {
            "text/html": [
              "<html>\n",
              "<head><meta charset=\"utf-8\" /></head>\n",
              "<body>\n",
              "    <div>\n",
              "            <script src=\"https://cdnjs.cloudflare.com/ajax/libs/mathjax/2.7.5/MathJax.js?config=TeX-AMS-MML_SVG\"></script><script type=\"text/javascript\">if (window.MathJax) {MathJax.Hub.Config({SVG: {font: \"STIX-Web\"}});}</script>\n",
              "                <script type=\"text/javascript\">window.PlotlyConfig = {MathJaxConfig: 'local'};</script>\n",
              "        <script src=\"https://cdn.plot.ly/plotly-latest.min.js\"></script>    \n",
              "            <div id=\"785185af-9046-42d9-87ca-4c3b664c0328\" class=\"plotly-graph-div\" style=\"height:525px; width:100%;\"></div>\n",
              "            <script type=\"text/javascript\">\n",
              "                \n",
              "                    window.PLOTLYENV=window.PLOTLYENV || {};\n",
              "                    \n",
              "                if (document.getElementById(\"785185af-9046-42d9-87ca-4c3b664c0328\")) {\n",
              "                    Plotly.newPlot(\n",
              "                        '785185af-9046-42d9-87ca-4c3b664c0328',\n",
              "                        [{\"mode\": \"lines\", \"name\": \"sigma=20 (exp1 : N=1000)\", \"type\": \"scatter\", \"y\": [0.041, 0.147, 0.332, 0.572, 0.765, 0.909, 0.973, 0.998, 0.999, 1.0, 1.0, 1.0, 1.0, 1.0, 1.0, 1.0]}, {\"mode\": \"lines\", \"name\": \"sigma=30 (exp1 : N=1000)\", \"type\": \"scatter\", \"y\": [0.063, 0.108, 0.249, 0.414, 0.623, 0.789, 0.888, 0.955, 0.993, 0.996, 0.999, 0.999, 1.0, 1.0, 1.0, 1.0]}, {\"mode\": \"lines\", \"name\": \"sigma=40 (exp1 : N=1000)\", \"type\": \"scatter\", \"y\": [0.045, 0.106, 0.206, 0.341, 0.543, 0.679, 0.79, 0.894, 0.952, 0.975, 0.997, 0.999, 1.0, 0.999, 1.0, 1.0]}, {\"mode\": \"lines\", \"name\": \"sigma=20 (exp1 : N=10000)\", \"type\": \"scatter\", \"y\": [0.0487, 0.1535, 0.3254, 0.5489, 0.7732, 0.9069, 0.9699, 0.9928, 0.9994, 1.0, 1.0, 1.0, 1.0, 1.0, 1.0, 1.0]}, {\"mode\": \"lines\", \"name\": \"sigma=30 (exp1 : N=10000)\", \"type\": \"scatter\", \"y\": [0.0477, 0.1246, 0.2557, 0.422, 0.6121, 0.7729, 0.8923, 0.9627, 0.987, 0.9974, 0.9997, 0.9998, 1.0, 1.0, 1.0, 1.0]}, {\"mode\": \"lines\", \"name\": \"sigma=40 (exp1 : N=10000)\", \"type\": \"scatter\", \"y\": [0.0493, 0.1069, 0.2142, 0.3563, 0.501, 0.6787, 0.806, 0.9001, 0.9536, 0.9828, 0.9954, 0.9982, 0.9998, 1.0, 1.0, 1.0]}],\n",
              "                        {\"legend\": {\"orientation\": \"v\"}, \"template\": {\"data\": {\"bar\": [{\"error_x\": {\"color\": \"#2a3f5f\"}, \"error_y\": {\"color\": \"#2a3f5f\"}, \"marker\": {\"line\": {\"color\": \"#E5ECF6\", \"width\": 0.5}}, \"type\": \"bar\"}], \"barpolar\": [{\"marker\": {\"line\": {\"color\": \"#E5ECF6\", \"width\": 0.5}}, \"type\": \"barpolar\"}], \"carpet\": [{\"aaxis\": {\"endlinecolor\": \"#2a3f5f\", \"gridcolor\": \"white\", \"linecolor\": \"white\", \"minorgridcolor\": \"white\", \"startlinecolor\": \"#2a3f5f\"}, \"baxis\": {\"endlinecolor\": \"#2a3f5f\", \"gridcolor\": \"white\", \"linecolor\": \"white\", \"minorgridcolor\": \"white\", \"startlinecolor\": \"#2a3f5f\"}, \"type\": \"carpet\"}], \"choropleth\": [{\"colorbar\": {\"outlinewidth\": 0, \"ticks\": \"\"}, \"type\": \"choropleth\"}], \"contour\": [{\"colorbar\": {\"outlinewidth\": 0, \"ticks\": \"\"}, \"colorscale\": [[0.0, \"#0d0887\"], [0.1111111111111111, \"#46039f\"], [0.2222222222222222, \"#7201a8\"], [0.3333333333333333, \"#9c179e\"], [0.4444444444444444, \"#bd3786\"], [0.5555555555555556, \"#d8576b\"], [0.6666666666666666, \"#ed7953\"], [0.7777777777777778, \"#fb9f3a\"], [0.8888888888888888, \"#fdca26\"], [1.0, \"#f0f921\"]], \"type\": \"contour\"}], \"contourcarpet\": [{\"colorbar\": {\"outlinewidth\": 0, \"ticks\": \"\"}, \"type\": \"contourcarpet\"}], \"heatmap\": [{\"colorbar\": {\"outlinewidth\": 0, \"ticks\": \"\"}, \"colorscale\": [[0.0, \"#0d0887\"], [0.1111111111111111, \"#46039f\"], [0.2222222222222222, \"#7201a8\"], [0.3333333333333333, \"#9c179e\"], [0.4444444444444444, \"#bd3786\"], [0.5555555555555556, \"#d8576b\"], [0.6666666666666666, \"#ed7953\"], [0.7777777777777778, \"#fb9f3a\"], [0.8888888888888888, \"#fdca26\"], [1.0, \"#f0f921\"]], \"type\": \"heatmap\"}], \"heatmapgl\": [{\"colorbar\": {\"outlinewidth\": 0, \"ticks\": \"\"}, \"colorscale\": [[0.0, \"#0d0887\"], [0.1111111111111111, \"#46039f\"], [0.2222222222222222, \"#7201a8\"], [0.3333333333333333, \"#9c179e\"], [0.4444444444444444, \"#bd3786\"], [0.5555555555555556, \"#d8576b\"], [0.6666666666666666, \"#ed7953\"], [0.7777777777777778, \"#fb9f3a\"], [0.8888888888888888, \"#fdca26\"], [1.0, \"#f0f921\"]], \"type\": \"heatmapgl\"}], \"histogram\": [{\"marker\": {\"colorbar\": {\"outlinewidth\": 0, \"ticks\": \"\"}}, \"type\": \"histogram\"}], \"histogram2d\": [{\"colorbar\": {\"outlinewidth\": 0, \"ticks\": \"\"}, \"colorscale\": [[0.0, \"#0d0887\"], [0.1111111111111111, \"#46039f\"], [0.2222222222222222, \"#7201a8\"], [0.3333333333333333, \"#9c179e\"], [0.4444444444444444, \"#bd3786\"], [0.5555555555555556, \"#d8576b\"], [0.6666666666666666, \"#ed7953\"], [0.7777777777777778, \"#fb9f3a\"], [0.8888888888888888, \"#fdca26\"], [1.0, \"#f0f921\"]], \"type\": \"histogram2d\"}], \"histogram2dcontour\": [{\"colorbar\": {\"outlinewidth\": 0, \"ticks\": \"\"}, \"colorscale\": [[0.0, \"#0d0887\"], [0.1111111111111111, \"#46039f\"], [0.2222222222222222, \"#7201a8\"], [0.3333333333333333, \"#9c179e\"], [0.4444444444444444, \"#bd3786\"], [0.5555555555555556, \"#d8576b\"], [0.6666666666666666, \"#ed7953\"], [0.7777777777777778, \"#fb9f3a\"], [0.8888888888888888, \"#fdca26\"], [1.0, \"#f0f921\"]], \"type\": \"histogram2dcontour\"}], \"mesh3d\": [{\"colorbar\": {\"outlinewidth\": 0, \"ticks\": \"\"}, \"type\": \"mesh3d\"}], \"parcoords\": [{\"line\": {\"colorbar\": {\"outlinewidth\": 0, \"ticks\": \"\"}}, \"type\": \"parcoords\"}], \"scatter\": [{\"marker\": {\"colorbar\": {\"outlinewidth\": 0, \"ticks\": \"\"}}, \"type\": \"scatter\"}], \"scatter3d\": [{\"line\": {\"colorbar\": {\"outlinewidth\": 0, \"ticks\": \"\"}}, \"marker\": {\"colorbar\": {\"outlinewidth\": 0, \"ticks\": \"\"}}, \"type\": \"scatter3d\"}], \"scattercarpet\": [{\"marker\": {\"colorbar\": {\"outlinewidth\": 0, \"ticks\": \"\"}}, \"type\": \"scattercarpet\"}], \"scattergeo\": [{\"marker\": {\"colorbar\": {\"outlinewidth\": 0, \"ticks\": \"\"}}, \"type\": \"scattergeo\"}], \"scattergl\": [{\"marker\": {\"colorbar\": {\"outlinewidth\": 0, \"ticks\": \"\"}}, \"type\": \"scattergl\"}], \"scattermapbox\": [{\"marker\": {\"colorbar\": {\"outlinewidth\": 0, \"ticks\": \"\"}}, \"type\": \"scattermapbox\"}], \"scatterpolar\": [{\"marker\": {\"colorbar\": {\"outlinewidth\": 0, \"ticks\": \"\"}}, \"type\": \"scatterpolar\"}], \"scatterpolargl\": [{\"marker\": {\"colorbar\": {\"outlinewidth\": 0, \"ticks\": \"\"}}, \"type\": \"scatterpolargl\"}], \"scatterternary\": [{\"marker\": {\"colorbar\": {\"outlinewidth\": 0, \"ticks\": \"\"}}, \"type\": \"scatterternary\"}], \"surface\": [{\"colorbar\": {\"outlinewidth\": 0, \"ticks\": \"\"}, \"colorscale\": [[0.0, \"#0d0887\"], [0.1111111111111111, \"#46039f\"], [0.2222222222222222, \"#7201a8\"], [0.3333333333333333, \"#9c179e\"], [0.4444444444444444, \"#bd3786\"], [0.5555555555555556, \"#d8576b\"], [0.6666666666666666, \"#ed7953\"], [0.7777777777777778, \"#fb9f3a\"], [0.8888888888888888, \"#fdca26\"], [1.0, \"#f0f921\"]], \"type\": \"surface\"}], \"table\": [{\"cells\": {\"fill\": {\"color\": \"#EBF0F8\"}, \"line\": {\"color\": \"white\"}}, \"header\": {\"fill\": {\"color\": \"#C8D4E3\"}, \"line\": {\"color\": \"white\"}}, \"type\": \"table\"}]}, \"layout\": {\"annotationdefaults\": {\"arrowcolor\": \"#2a3f5f\", \"arrowhead\": 0, \"arrowwidth\": 1}, \"colorscale\": {\"diverging\": [[0, \"#8e0152\"], [0.1, \"#c51b7d\"], [0.2, \"#de77ae\"], [0.3, \"#f1b6da\"], [0.4, \"#fde0ef\"], [0.5, \"#f7f7f7\"], [0.6, \"#e6f5d0\"], [0.7, \"#b8e186\"], [0.8, \"#7fbc41\"], [0.9, \"#4d9221\"], [1, \"#276419\"]], \"sequential\": [[0.0, \"#0d0887\"], [0.1111111111111111, \"#46039f\"], [0.2222222222222222, \"#7201a8\"], [0.3333333333333333, \"#9c179e\"], [0.4444444444444444, \"#bd3786\"], [0.5555555555555556, \"#d8576b\"], [0.6666666666666666, \"#ed7953\"], [0.7777777777777778, \"#fb9f3a\"], [0.8888888888888888, \"#fdca26\"], [1.0, \"#f0f921\"]], \"sequentialminus\": [[0.0, \"#0d0887\"], [0.1111111111111111, \"#46039f\"], [0.2222222222222222, \"#7201a8\"], [0.3333333333333333, \"#9c179e\"], [0.4444444444444444, \"#bd3786\"], [0.5555555555555556, \"#d8576b\"], [0.6666666666666666, \"#ed7953\"], [0.7777777777777778, \"#fb9f3a\"], [0.8888888888888888, \"#fdca26\"], [1.0, \"#f0f921\"]]}, \"colorway\": [\"#636efa\", \"#EF553B\", \"#00cc96\", \"#ab63fa\", \"#FFA15A\", \"#19d3f3\", \"#FF6692\", \"#B6E880\", \"#FF97FF\", \"#FECB52\"], \"font\": {\"color\": \"#2a3f5f\"}, \"geo\": {\"bgcolor\": \"white\", \"lakecolor\": \"white\", \"landcolor\": \"#E5ECF6\", \"showlakes\": true, \"showland\": true, \"subunitcolor\": \"white\"}, \"hoverlabel\": {\"align\": \"left\"}, \"hovermode\": \"closest\", \"mapbox\": {\"style\": \"light\"}, \"paper_bgcolor\": \"white\", \"plot_bgcolor\": \"#E5ECF6\", \"polar\": {\"angularaxis\": {\"gridcolor\": \"white\", \"linecolor\": \"white\", \"ticks\": \"\"}, \"bgcolor\": \"#E5ECF6\", \"radialaxis\": {\"gridcolor\": \"white\", \"linecolor\": \"white\", \"ticks\": \"\"}}, \"scene\": {\"xaxis\": {\"backgroundcolor\": \"#E5ECF6\", \"gridcolor\": \"white\", \"gridwidth\": 2, \"linecolor\": \"white\", \"showbackground\": true, \"ticks\": \"\", \"zerolinecolor\": \"white\"}, \"yaxis\": {\"backgroundcolor\": \"#E5ECF6\", \"gridcolor\": \"white\", \"gridwidth\": 2, \"linecolor\": \"white\", \"showbackground\": true, \"ticks\": \"\", \"zerolinecolor\": \"white\"}, \"zaxis\": {\"backgroundcolor\": \"#E5ECF6\", \"gridcolor\": \"white\", \"gridwidth\": 2, \"linecolor\": \"white\", \"showbackground\": true, \"ticks\": \"\", \"zerolinecolor\": \"white\"}}, \"shapedefaults\": {\"line\": {\"color\": \"#2a3f5f\"}}, \"ternary\": {\"aaxis\": {\"gridcolor\": \"white\", \"linecolor\": \"white\", \"ticks\": \"\"}, \"baxis\": {\"gridcolor\": \"white\", \"linecolor\": \"white\", \"ticks\": \"\"}, \"bgcolor\": \"#E5ECF6\", \"caxis\": {\"gridcolor\": \"white\", \"linecolor\": \"white\", \"ticks\": \"\"}}, \"title\": {\"x\": 0.05}, \"xaxis\": {\"automargin\": true, \"gridcolor\": \"white\", \"linecolor\": \"white\", \"ticks\": \"\", \"zerolinecolor\": \"white\", \"zerolinewidth\": 2}, \"yaxis\": {\"automargin\": true, \"gridcolor\": \"white\", \"linecolor\": \"white\", \"ticks\": \"\", \"zerolinecolor\": \"white\", \"zerolinewidth\": 2}}}, \"title\": {\"text\": \"\\u00e9tude de la puissance du test en fonction de delta\"}, \"xaxis\": {\"title\": {\"text\": \"delta (mu2 - mu1)\"}}, \"yaxis\": {\"title\": {\"text\": \"puissance du test\"}}},\n",
              "                        {\"responsive\": true}\n",
              "                    ).then(function(){\n",
              "                            \n",
              "var gd = document.getElementById('785185af-9046-42d9-87ca-4c3b664c0328');\n",
              "var x = new MutationObserver(function (mutations, observer) {{\n",
              "        var display = window.getComputedStyle(gd).display;\n",
              "        if (!display || display === 'none') {{\n",
              "            console.log([gd, 'removed!']);\n",
              "            Plotly.purge(gd);\n",
              "            observer.disconnect();\n",
              "        }}\n",
              "}});\n",
              "\n",
              "// Listen for the removal of the full notebook cells\n",
              "var notebookContainer = gd.closest('#notebook-container');\n",
              "if (notebookContainer) {{\n",
              "    x.observe(notebookContainer, {childList: true});\n",
              "}}\n",
              "\n",
              "// Listen for the clearing of the current output cell\n",
              "var outputEl = gd.closest('.output');\n",
              "if (outputEl) {{\n",
              "    x.observe(outputEl, {childList: true});\n",
              "}}\n",
              "\n",
              "                        })\n",
              "                };\n",
              "                \n",
              "            </script>\n",
              "        </div>\n",
              "</body>\n",
              "</html>"
            ]
          },
          "metadata": {
            "tags": []
          }
        },
        {
          "output_type": "stream",
          "text": [
            "time: 183 ms\n"
          ],
          "name": "stdout"
        }
      ]
    },
    {
      "cell_type": "markdown",
      "metadata": {
        "id": "B9gc2y1FhCx5",
        "colab_type": "text"
      },
      "source": [
        "# **Partie 3 : calcul d'une $p$-value par une méthode de permutation Monte-Carlo**"
      ]
    },
    {
      "cell_type": "markdown",
      "metadata": {
        "id": "VjkvbFGPhNmq",
        "colab_type": "text"
      },
      "source": [
        "## **3.1** Écrire une fonction approxP [...]"
      ]
    },
    {
      "cell_type": "code",
      "metadata": {
        "id": "uXybPXWChF7f",
        "colab_type": "code",
        "outputId": "bc24f61e-22de-46c0-c36e-a7d060228526",
        "colab": {
          "base_uri": "https://localhost:8080/",
          "height": 34
        }
      },
      "source": [
        "def approxP(x1, x2, t_obs, n_permutations):\n",
        "    n_rejections = 0\n",
        "    data = np.concatenate((x1, x2))\n",
        "    \n",
        "    for _ in range(n_permutations):\n",
        "        data_shuffle = resample(data)\n",
        "        new_x1, new_x2 = data_shuffle[:len(x1)], data_shuffle[len(x1):]\n",
        "\n",
        "        if calculeT(new_x1, new_x2) > t_obs:\n",
        "            n_rejections += 1\n",
        "    \n",
        "    return n_rejections / n_permutations"
      ],
      "execution_count": 0,
      "outputs": [
        {
          "output_type": "stream",
          "text": [
            "time: 6.07 ms\n"
          ],
          "name": "stdout"
        }
      ]
    },
    {
      "cell_type": "markdown",
      "metadata": {
        "id": "TgyBk2Npb2s8",
        "colab_type": "text"
      },
      "source": [
        "## **3.2** * En quelques lignes, expliquer pourquoi approxP permet d'approcher la p-value du test."
      ]
    },
    {
      "cell_type": "markdown",
      "metadata": {
        "id": "iuaSgnMCcCfQ",
        "colab_type": "text"
      },
      "source": [
        "Une vue fréquentiste sur un test de taille $\\alpha$ est de considérer qu'on doit conserver l'hypothèse nulle $H_0$ dans une proportion plus petite que $\\alpha$ lorsqu'on répète l'observation des variables aléatoires un grand nombre de fois.\n",
        "\n",
        "De la même façon, une vue fréquentiste sur la $p$-valeur est la proportion exacte de conservation de $H_0$ si on répète l'observation des variables aléatoires un grand nombre de fois.\n",
        "\n",
        "On peut donc estimer la $p$-valeur si on arrive à obtenir un grand nombre de nouvelles observations des variables aléatoires du problème. Pour se faire, on se place sous $H_0$, et on obtient une distribution de probabilité commune à toutes nos variables aléatoires. On peut donc légitimement considérer qu'une permutation de nos observations constitue de nouvelles observations tout aussi probables puisque les VA sont indépendantes.\n",
        "\n",
        "On construit donc un estimateur $\\hat{p}$ en comptant le nombre de fois où on conserve $H_0$ après permutation de nos observations.\n",
        "\n",
        "$\\hat{p} = \\frac{1}{n}\\sum_{i=1}^{n}\\delta(T^*_i > t_{obs})$\n",
        "\n",
        "Les $T^*$ suivent une même loi et sont indépendants, ainsi\n",
        "d'après la loi des grands nombres, pour $n \\rightarrow +\\infty$ on a $\\hat{p} \\rightarrow \\textbf{E}\\Big(\\delta(T^* > t_{obs})\\Big) = P\\big(T^* > t_{obs}\\big) = P(T > t_{obs}) = p$\n",
        "\n",
        "$\\square$"
      ]
    },
    {
      "cell_type": "markdown",
      "metadata": {
        "id": "yL8OwDgz4ub2",
        "colab_type": "text"
      },
      "source": [
        "## **3.3** Rappeler comment on prend une décision en fonction de la valeur de la $p$-value et de la taille $\\alpha$ du test."
      ]
    },
    {
      "cell_type": "markdown",
      "metadata": {
        "id": "2TYruyWb52Pk",
        "colab_type": "text"
      },
      "source": [
        "On rejette l'hypothèse nulle si on a $\\alpha > p$."
      ]
    },
    {
      "cell_type": "markdown",
      "metadata": {
        "id": "GTJjrGE_hPox",
        "colab_type": "text"
      },
      "source": [
        "## **3.4** Approcher la $p$-value du test sur les données qui nous intéresse par cette méthode avec $K=10^4$. Quelle est la décision que l'on prend ici ?\n"
      ]
    },
    {
      "cell_type": "code",
      "metadata": {
        "id": "pJWqKdwih-w3",
        "colab_type": "code",
        "outputId": "f57cac94-e5c5-4c9f-bcda-7cc204c9c2f4",
        "colab": {
          "base_uri": "https://localhost:8080/",
          "height": 68
        }
      },
      "source": [
        "t_obs = calculeT(x1, x2)\n",
        "print(f\"approximation de la p-value : {approxP(x1, x2, t_obs, 10**4)}\")\n",
        "print(f\"vraie p-value : {calculePvalue(t_obs, student_law_degree)}\")"
      ],
      "execution_count": 0,
      "outputs": [
        {
          "output_type": "stream",
          "text": [
            "approximation de la p-value : 0.0212\n",
            "vraie p-value : 0.02206763583900795\n",
            "time: 811 ms\n"
          ],
          "name": "stdout"
        }
      ]
    },
    {
      "cell_type": "markdown",
      "metadata": {
        "id": "PTwk_ecKwARH",
        "colab_type": "text"
      },
      "source": [
        "## **Partie 4 : Étude la puissance du test mis en place dans la partie 3**"
      ]
    },
    {
      "cell_type": "markdown",
      "metadata": {
        "id": "0hclFGj_zXaZ",
        "colab_type": "text"
      },
      "source": [
        "### **4.1** En s'inspirant de la partie 2, écrire une fonction `puiss3` qui prend en entrée les valeurs de $\\Delta$, $\\sigma^2$, $\\alpha$, $K$ et $N$ et qui fait les choses suivantes:\n",
        "* elle simule $N$ jeux de données suivant (1) et (2);\n",
        "* elle calcule, sur chacun de $N$ jeux de données, une approximation de la $p$-value à l'aide de `approxT` avec $K$ permutations indépendantes;\n",
        "* elle compte le nombre de fois où ces $N$ $p$-value sont inférieures à $\\alpha$;\n",
        "* elle renvoie la fréquence où $p<\\alpha$ parmi ces $N$ valeurs de $p$."
      ]
    },
    {
      "cell_type": "code",
      "metadata": {
        "id": "RJRaeQt1wAFy",
        "colab_type": "code",
        "outputId": "43ee7926-007a-4618-98f6-310dd474ab91",
        "colab": {
          "base_uri": "https://localhost:8080/",
          "height": 34
        }
      },
      "source": [
        "def puiss3(delta, sigma, alpha, n_permutations, n_simulations):\n",
        "    n_rejections = 0\n",
        "\n",
        "    for _ in range(n_simulations):\n",
        "        x1, x2 = genereDonnees(delta, sigma)\n",
        "        t_obs = calculeT(x1, x2)\n",
        "\n",
        "        p_value = approxP(x1, x2, t_obs, n_permutations)\n",
        "        if p_value < alpha:\n",
        "            n_rejections += 1\n",
        "     \n",
        "    return n_rejections / n_simulations"
      ],
      "execution_count": 0,
      "outputs": [
        {
          "output_type": "stream",
          "text": [
            "time: 6.41 ms\n"
          ],
          "name": "stdout"
        }
      ]
    },
    {
      "cell_type": "markdown",
      "metadata": {
        "id": "AM_e4_-P5E4Y",
        "colab_type": "text"
      },
      "source": [
        "### **4.2** En utilisant cette fonction pour $\\sigma^2=20$, $N=10^3$ et $K=400$, approcher les valeurs de $\\beta_3(\\theta)$ pour les $16$ valeurs entières de $\\Delta$ entre $0$ et $15$. Représenter graphiquement ces approximations en fonction de $\\Delta$, ainsi que $\\beta(\\theta)$ tel que calculé dans la partie 2. On représentera les deux courbes dans deux couleurs différentes.\n",
        "### **4.3** Même question pour $\\sigma^2=30$.\n",
        "### **4.4** Même question pour $\\sigma^2=40$."
      ]
    },
    {
      "cell_type": "code",
      "metadata": {
        "id": "qdG0khzZd4sl",
        "colab_type": "code",
        "outputId": "9a6befa7-a098-4341-8d38-884c80d359eb",
        "colab": {
          "base_uri": "https://localhost:8080/",
          "height": 34
        }
      },
      "source": [
        "def run_experience_2(deltas, sigmas, alpha, n_permutations, n_simulations):\n",
        "    results = []\n",
        "\n",
        "    for sigma in sigmas:\n",
        "        result = []\n",
        "        for delta in deltas:\n",
        "            result.append(puiss3(delta, sigma, alpha, n_permutations, n_simulations))\n",
        "        results.append(result)\n",
        "    \n",
        "    return results"
      ],
      "execution_count": 0,
      "outputs": [
        {
          "output_type": "stream",
          "text": [
            "time: 5.77 ms\n"
          ],
          "name": "stdout"
        }
      ]
    },
    {
      "cell_type": "markdown",
      "metadata": {
        "id": "rkZdl_3UHYuC",
        "colab_type": "text"
      },
      "source": [
        "**!!! L'EXECUTION DE CETTE CELLULE PREND AU MOINS 20 MINUTES !!!**"
      ]
    },
    {
      "cell_type": "code",
      "metadata": {
        "id": "usQ7ezSnouOA",
        "colab_type": "code",
        "outputId": "49b859f5-4839-4caf-8492-cb4f428b5c0d",
        "colab": {
          "base_uri": "https://localhost:8080/",
          "height": 34
        }
      },
      "source": [
        "n_simulations = 10**3\n",
        "n_permutations = 400\n",
        "\n",
        "exp_name = f\"exp2 : K={n_permutations}, N={n_simulations}\"\n",
        "RESULTS[exp_name] = run_experience_2(DELTAS, SIGMAS, ALPHA, n_permutations, n_simulations)"
      ],
      "execution_count": 0,
      "outputs": [
        {
          "output_type": "stream",
          "text": [
            "time: 26min 14s\n"
          ],
          "name": "stdout"
        }
      ]
    },
    {
      "cell_type": "code",
      "metadata": {
        "id": "Igun8IHHlxgw",
        "colab_type": "code",
        "outputId": "04cd059a-7ec3-43b2-d0e9-34e9933d4be5",
        "colab": {
          "base_uri": "https://localhost:8080/",
          "height": 559
        }
      },
      "source": [
        "plot_experience(RESULTS, SIGMAS)"
      ],
      "execution_count": 0,
      "outputs": [
        {
          "output_type": "display_data",
          "data": {
            "text/html": [
              "<html>\n",
              "<head><meta charset=\"utf-8\" /></head>\n",
              "<body>\n",
              "    <div>\n",
              "            <script src=\"https://cdnjs.cloudflare.com/ajax/libs/mathjax/2.7.5/MathJax.js?config=TeX-AMS-MML_SVG\"></script><script type=\"text/javascript\">if (window.MathJax) {MathJax.Hub.Config({SVG: {font: \"STIX-Web\"}});}</script>\n",
              "                <script type=\"text/javascript\">window.PlotlyConfig = {MathJaxConfig: 'local'};</script>\n",
              "        <script src=\"https://cdn.plot.ly/plotly-latest.min.js\"></script>    \n",
              "            <div id=\"f5166250-68f2-41a9-a4f4-9860acc50802\" class=\"plotly-graph-div\" style=\"height:525px; width:100%;\"></div>\n",
              "            <script type=\"text/javascript\">\n",
              "                \n",
              "                    window.PLOTLYENV=window.PLOTLYENV || {};\n",
              "                    \n",
              "                if (document.getElementById(\"f5166250-68f2-41a9-a4f4-9860acc50802\")) {\n",
              "                    Plotly.newPlot(\n",
              "                        'f5166250-68f2-41a9-a4f4-9860acc50802',\n",
              "                        [{\"mode\": \"lines\", \"name\": \"sigma=20 (exp1 : N=1000)\", \"type\": \"scatter\", \"y\": [0.041, 0.147, 0.332, 0.572, 0.765, 0.909, 0.973, 0.998, 0.999, 1.0, 1.0, 1.0, 1.0, 1.0, 1.0, 1.0]}, {\"mode\": \"lines\", \"name\": \"sigma=30 (exp1 : N=1000)\", \"type\": \"scatter\", \"y\": [0.063, 0.108, 0.249, 0.414, 0.623, 0.789, 0.888, 0.955, 0.993, 0.996, 0.999, 0.999, 1.0, 1.0, 1.0, 1.0]}, {\"mode\": \"lines\", \"name\": \"sigma=40 (exp1 : N=1000)\", \"type\": \"scatter\", \"y\": [0.045, 0.106, 0.206, 0.341, 0.543, 0.679, 0.79, 0.894, 0.952, 0.975, 0.997, 0.999, 1.0, 0.999, 1.0, 1.0]}, {\"mode\": \"lines\", \"name\": \"sigma=20 (exp1 : N=10000)\", \"type\": \"scatter\", \"y\": [0.0487, 0.1535, 0.3254, 0.5489, 0.7732, 0.9069, 0.9699, 0.9928, 0.9994, 1.0, 1.0, 1.0, 1.0, 1.0, 1.0, 1.0]}, {\"mode\": \"lines\", \"name\": \"sigma=30 (exp1 : N=10000)\", \"type\": \"scatter\", \"y\": [0.0477, 0.1246, 0.2557, 0.422, 0.6121, 0.7729, 0.8923, 0.9627, 0.987, 0.9974, 0.9997, 0.9998, 1.0, 1.0, 1.0, 1.0]}, {\"mode\": \"lines\", \"name\": \"sigma=40 (exp1 : N=10000)\", \"type\": \"scatter\", \"y\": [0.0493, 0.1069, 0.2142, 0.3563, 0.501, 0.6787, 0.806, 0.9001, 0.9536, 0.9828, 0.9954, 0.9982, 0.9998, 1.0, 1.0, 1.0]}, {\"mode\": \"lines\", \"name\": \"sigma=20 (exp2 : K=400, N=1000)\", \"type\": \"scatter\", \"y\": [0.053, 0.063, 0.093, 0.12, 0.144, 0.156, 0.197, 0.242, 0.264, 0.329, 0.367, 0.426, 0.462, 0.537, 0.578, 0.628]}, {\"mode\": \"lines\", \"name\": \"sigma=30 (exp2 : K=400, N=1000)\", \"type\": \"scatter\", \"y\": [0.045, 0.056, 0.079, 0.075, 0.094, 0.099, 0.136, 0.144, 0.193, 0.173, 0.224, 0.262, 0.26, 0.291, 0.313, 0.361]}, {\"mode\": \"lines\", \"name\": \"sigma=40 (exp2 : K=400, N=1000)\", \"type\": \"scatter\", \"y\": [0.054, 0.043, 0.073, 0.086, 0.077, 0.1, 0.098, 0.116, 0.147, 0.149, 0.165, 0.195, 0.193, 0.219, 0.231, 0.279]}],\n",
              "                        {\"legend\": {\"orientation\": \"v\"}, \"template\": {\"data\": {\"bar\": [{\"error_x\": {\"color\": \"#2a3f5f\"}, \"error_y\": {\"color\": \"#2a3f5f\"}, \"marker\": {\"line\": {\"color\": \"#E5ECF6\", \"width\": 0.5}}, \"type\": \"bar\"}], \"barpolar\": [{\"marker\": {\"line\": {\"color\": \"#E5ECF6\", \"width\": 0.5}}, \"type\": \"barpolar\"}], \"carpet\": [{\"aaxis\": {\"endlinecolor\": \"#2a3f5f\", \"gridcolor\": \"white\", \"linecolor\": \"white\", \"minorgridcolor\": \"white\", \"startlinecolor\": \"#2a3f5f\"}, \"baxis\": {\"endlinecolor\": \"#2a3f5f\", \"gridcolor\": \"white\", \"linecolor\": \"white\", \"minorgridcolor\": \"white\", \"startlinecolor\": \"#2a3f5f\"}, \"type\": \"carpet\"}], \"choropleth\": [{\"colorbar\": {\"outlinewidth\": 0, \"ticks\": \"\"}, \"type\": \"choropleth\"}], \"contour\": [{\"colorbar\": {\"outlinewidth\": 0, \"ticks\": \"\"}, \"colorscale\": [[0.0, \"#0d0887\"], [0.1111111111111111, \"#46039f\"], [0.2222222222222222, \"#7201a8\"], [0.3333333333333333, \"#9c179e\"], [0.4444444444444444, \"#bd3786\"], [0.5555555555555556, \"#d8576b\"], [0.6666666666666666, \"#ed7953\"], [0.7777777777777778, \"#fb9f3a\"], [0.8888888888888888, \"#fdca26\"], [1.0, \"#f0f921\"]], \"type\": \"contour\"}], \"contourcarpet\": [{\"colorbar\": {\"outlinewidth\": 0, \"ticks\": \"\"}, \"type\": \"contourcarpet\"}], \"heatmap\": [{\"colorbar\": {\"outlinewidth\": 0, \"ticks\": \"\"}, \"colorscale\": [[0.0, \"#0d0887\"], [0.1111111111111111, \"#46039f\"], [0.2222222222222222, \"#7201a8\"], [0.3333333333333333, \"#9c179e\"], [0.4444444444444444, \"#bd3786\"], [0.5555555555555556, \"#d8576b\"], [0.6666666666666666, \"#ed7953\"], [0.7777777777777778, \"#fb9f3a\"], [0.8888888888888888, \"#fdca26\"], [1.0, \"#f0f921\"]], \"type\": \"heatmap\"}], \"heatmapgl\": [{\"colorbar\": {\"outlinewidth\": 0, \"ticks\": \"\"}, \"colorscale\": [[0.0, \"#0d0887\"], [0.1111111111111111, \"#46039f\"], [0.2222222222222222, \"#7201a8\"], [0.3333333333333333, \"#9c179e\"], [0.4444444444444444, \"#bd3786\"], [0.5555555555555556, \"#d8576b\"], [0.6666666666666666, \"#ed7953\"], [0.7777777777777778, \"#fb9f3a\"], [0.8888888888888888, \"#fdca26\"], [1.0, \"#f0f921\"]], \"type\": \"heatmapgl\"}], \"histogram\": [{\"marker\": {\"colorbar\": {\"outlinewidth\": 0, \"ticks\": \"\"}}, \"type\": \"histogram\"}], \"histogram2d\": [{\"colorbar\": {\"outlinewidth\": 0, \"ticks\": \"\"}, \"colorscale\": [[0.0, \"#0d0887\"], [0.1111111111111111, \"#46039f\"], [0.2222222222222222, \"#7201a8\"], [0.3333333333333333, \"#9c179e\"], [0.4444444444444444, \"#bd3786\"], [0.5555555555555556, \"#d8576b\"], [0.6666666666666666, \"#ed7953\"], [0.7777777777777778, \"#fb9f3a\"], [0.8888888888888888, \"#fdca26\"], [1.0, \"#f0f921\"]], \"type\": \"histogram2d\"}], \"histogram2dcontour\": [{\"colorbar\": {\"outlinewidth\": 0, \"ticks\": \"\"}, \"colorscale\": [[0.0, \"#0d0887\"], [0.1111111111111111, \"#46039f\"], [0.2222222222222222, \"#7201a8\"], [0.3333333333333333, \"#9c179e\"], [0.4444444444444444, \"#bd3786\"], [0.5555555555555556, \"#d8576b\"], [0.6666666666666666, \"#ed7953\"], [0.7777777777777778, \"#fb9f3a\"], [0.8888888888888888, \"#fdca26\"], [1.0, \"#f0f921\"]], \"type\": \"histogram2dcontour\"}], \"mesh3d\": [{\"colorbar\": {\"outlinewidth\": 0, \"ticks\": \"\"}, \"type\": \"mesh3d\"}], \"parcoords\": [{\"line\": {\"colorbar\": {\"outlinewidth\": 0, \"ticks\": \"\"}}, \"type\": \"parcoords\"}], \"scatter\": [{\"marker\": {\"colorbar\": {\"outlinewidth\": 0, \"ticks\": \"\"}}, \"type\": \"scatter\"}], \"scatter3d\": [{\"line\": {\"colorbar\": {\"outlinewidth\": 0, \"ticks\": \"\"}}, \"marker\": {\"colorbar\": {\"outlinewidth\": 0, \"ticks\": \"\"}}, \"type\": \"scatter3d\"}], \"scattercarpet\": [{\"marker\": {\"colorbar\": {\"outlinewidth\": 0, \"ticks\": \"\"}}, \"type\": \"scattercarpet\"}], \"scattergeo\": [{\"marker\": {\"colorbar\": {\"outlinewidth\": 0, \"ticks\": \"\"}}, \"type\": \"scattergeo\"}], \"scattergl\": [{\"marker\": {\"colorbar\": {\"outlinewidth\": 0, \"ticks\": \"\"}}, \"type\": \"scattergl\"}], \"scattermapbox\": [{\"marker\": {\"colorbar\": {\"outlinewidth\": 0, \"ticks\": \"\"}}, \"type\": \"scattermapbox\"}], \"scatterpolar\": [{\"marker\": {\"colorbar\": {\"outlinewidth\": 0, \"ticks\": \"\"}}, \"type\": \"scatterpolar\"}], \"scatterpolargl\": [{\"marker\": {\"colorbar\": {\"outlinewidth\": 0, \"ticks\": \"\"}}, \"type\": \"scatterpolargl\"}], \"scatterternary\": [{\"marker\": {\"colorbar\": {\"outlinewidth\": 0, \"ticks\": \"\"}}, \"type\": \"scatterternary\"}], \"surface\": [{\"colorbar\": {\"outlinewidth\": 0, \"ticks\": \"\"}, \"colorscale\": [[0.0, \"#0d0887\"], [0.1111111111111111, \"#46039f\"], [0.2222222222222222, \"#7201a8\"], [0.3333333333333333, \"#9c179e\"], [0.4444444444444444, \"#bd3786\"], [0.5555555555555556, \"#d8576b\"], [0.6666666666666666, \"#ed7953\"], [0.7777777777777778, \"#fb9f3a\"], [0.8888888888888888, \"#fdca26\"], [1.0, \"#f0f921\"]], \"type\": \"surface\"}], \"table\": [{\"cells\": {\"fill\": {\"color\": \"#EBF0F8\"}, \"line\": {\"color\": \"white\"}}, \"header\": {\"fill\": {\"color\": \"#C8D4E3\"}, \"line\": {\"color\": \"white\"}}, \"type\": \"table\"}]}, \"layout\": {\"annotationdefaults\": {\"arrowcolor\": \"#2a3f5f\", \"arrowhead\": 0, \"arrowwidth\": 1}, \"colorscale\": {\"diverging\": [[0, \"#8e0152\"], [0.1, \"#c51b7d\"], [0.2, \"#de77ae\"], [0.3, \"#f1b6da\"], [0.4, \"#fde0ef\"], [0.5, \"#f7f7f7\"], [0.6, \"#e6f5d0\"], [0.7, \"#b8e186\"], [0.8, \"#7fbc41\"], [0.9, \"#4d9221\"], [1, \"#276419\"]], \"sequential\": [[0.0, \"#0d0887\"], [0.1111111111111111, \"#46039f\"], [0.2222222222222222, \"#7201a8\"], [0.3333333333333333, \"#9c179e\"], [0.4444444444444444, \"#bd3786\"], [0.5555555555555556, \"#d8576b\"], [0.6666666666666666, \"#ed7953\"], [0.7777777777777778, \"#fb9f3a\"], [0.8888888888888888, \"#fdca26\"], [1.0, \"#f0f921\"]], \"sequentialminus\": [[0.0, \"#0d0887\"], [0.1111111111111111, \"#46039f\"], [0.2222222222222222, \"#7201a8\"], [0.3333333333333333, \"#9c179e\"], [0.4444444444444444, \"#bd3786\"], [0.5555555555555556, \"#d8576b\"], [0.6666666666666666, \"#ed7953\"], [0.7777777777777778, \"#fb9f3a\"], [0.8888888888888888, \"#fdca26\"], [1.0, \"#f0f921\"]]}, \"colorway\": [\"#636efa\", \"#EF553B\", \"#00cc96\", \"#ab63fa\", \"#FFA15A\", \"#19d3f3\", \"#FF6692\", \"#B6E880\", \"#FF97FF\", \"#FECB52\"], \"font\": {\"color\": \"#2a3f5f\"}, \"geo\": {\"bgcolor\": \"white\", \"lakecolor\": \"white\", \"landcolor\": \"#E5ECF6\", \"showlakes\": true, \"showland\": true, \"subunitcolor\": \"white\"}, \"hoverlabel\": {\"align\": \"left\"}, \"hovermode\": \"closest\", \"mapbox\": {\"style\": \"light\"}, \"paper_bgcolor\": \"white\", \"plot_bgcolor\": \"#E5ECF6\", \"polar\": {\"angularaxis\": {\"gridcolor\": \"white\", \"linecolor\": \"white\", \"ticks\": \"\"}, \"bgcolor\": \"#E5ECF6\", \"radialaxis\": {\"gridcolor\": \"white\", \"linecolor\": \"white\", \"ticks\": \"\"}}, \"scene\": {\"xaxis\": {\"backgroundcolor\": \"#E5ECF6\", \"gridcolor\": \"white\", \"gridwidth\": 2, \"linecolor\": \"white\", \"showbackground\": true, \"ticks\": \"\", \"zerolinecolor\": \"white\"}, \"yaxis\": {\"backgroundcolor\": \"#E5ECF6\", \"gridcolor\": \"white\", \"gridwidth\": 2, \"linecolor\": \"white\", \"showbackground\": true, \"ticks\": \"\", \"zerolinecolor\": \"white\"}, \"zaxis\": {\"backgroundcolor\": \"#E5ECF6\", \"gridcolor\": \"white\", \"gridwidth\": 2, \"linecolor\": \"white\", \"showbackground\": true, \"ticks\": \"\", \"zerolinecolor\": \"white\"}}, \"shapedefaults\": {\"line\": {\"color\": \"#2a3f5f\"}}, \"ternary\": {\"aaxis\": {\"gridcolor\": \"white\", \"linecolor\": \"white\", \"ticks\": \"\"}, \"baxis\": {\"gridcolor\": \"white\", \"linecolor\": \"white\", \"ticks\": \"\"}, \"bgcolor\": \"#E5ECF6\", \"caxis\": {\"gridcolor\": \"white\", \"linecolor\": \"white\", \"ticks\": \"\"}}, \"title\": {\"x\": 0.05}, \"xaxis\": {\"automargin\": true, \"gridcolor\": \"white\", \"linecolor\": \"white\", \"ticks\": \"\", \"zerolinecolor\": \"white\", \"zerolinewidth\": 2}, \"yaxis\": {\"automargin\": true, \"gridcolor\": \"white\", \"linecolor\": \"white\", \"ticks\": \"\", \"zerolinecolor\": \"white\", \"zerolinewidth\": 2}}}, \"title\": {\"text\": \"\\u00e9tude de la puissance du test en fonction de delta\"}, \"xaxis\": {\"title\": {\"text\": \"delta (mu2 - mu1)\"}}, \"yaxis\": {\"title\": {\"text\": \"puissance du test\"}}},\n",
              "                        {\"responsive\": true}\n",
              "                    ).then(function(){\n",
              "                            \n",
              "var gd = document.getElementById('f5166250-68f2-41a9-a4f4-9860acc50802');\n",
              "var x = new MutationObserver(function (mutations, observer) {{\n",
              "        var display = window.getComputedStyle(gd).display;\n",
              "        if (!display || display === 'none') {{\n",
              "            console.log([gd, 'removed!']);\n",
              "            Plotly.purge(gd);\n",
              "            observer.disconnect();\n",
              "        }}\n",
              "}});\n",
              "\n",
              "// Listen for the removal of the full notebook cells\n",
              "var notebookContainer = gd.closest('#notebook-container');\n",
              "if (notebookContainer) {{\n",
              "    x.observe(notebookContainer, {childList: true});\n",
              "}}\n",
              "\n",
              "// Listen for the clearing of the current output cell\n",
              "var outputEl = gd.closest('.output');\n",
              "if (outputEl) {{\n",
              "    x.observe(outputEl, {childList: true});\n",
              "}}\n",
              "\n",
              "                        })\n",
              "                };\n",
              "                \n",
              "            </script>\n",
              "        </div>\n",
              "</body>\n",
              "</html>"
            ]
          },
          "metadata": {
            "tags": []
          }
        },
        {
          "output_type": "stream",
          "text": [
            "time: 341 ms\n"
          ],
          "name": "stdout"
        }
      ]
    },
    {
      "cell_type": "markdown",
      "metadata": {
        "id": "1HJI_r5O5UK2",
        "colab_type": "text"
      },
      "source": [
        "### **4.5** Quel est le test le plus puissant sous l'hypothèse gaussienne?"
      ]
    },
    {
      "cell_type": "markdown",
      "metadata": {
        "id": "KqC8aqAc5bzk",
        "colab_type": "text"
      },
      "source": [
        "Sous hypothèse gaussienne, le test de Student est largement plus puissant que celui des permutations par une méthode de Monte Carlo. La loi de Student modélise le comportement de deux distributions gaussiennes, il est donc normal que s'y l'on émet une hypothèse identique aux données réelles, notre test sera très proche de l'efficacité maximale théorique d'un test d'hypothèse. Conclusion, avoir un oracle très renseigné est toujours une bénédiction pour l'efficacité, mais ne nous pousse pas à être créatif pour résoudre un problème. De plus, l'efficacité de notre test de Student sous une hypothèse complètement différente ne peut être prouvée. Nous n'avons aucune garanti sur notre capacité de généralisation. Et il y a tout à croire que sans l'hypothèse de deux gaussiennes, ce test fonctionnera moins bien que celui par une méthode de permutation Monte Carlo."
      ]
    },
    {
      "cell_type": "markdown",
      "metadata": {
        "id": "d9bEWyJF5Ubo",
        "colab_type": "text"
      },
      "source": [
        "### **4.6** Peut-on raisonnablement faire quelque chose ici pour améliorer l'approximation de $\\beta_3(\\theta)$?"
      ]
    },
    {
      "cell_type": "markdown",
      "metadata": {
        "id": "KvZLWtmO5dEh",
        "colab_type": "text"
      },
      "source": [
        "Théoriquement, si on effectue toutes les permutations possibles, on obtient la vraie valeur de la puissance du test $\\beta_3(\\Theta)$. Une solution qui est très coûteuse en temps puisque le nombre de permutations possibles est $M = \\Big(\\begin{array}{c} m+n \\\\  m \\end{array} \\Big)$ soit $\\frac{(n+m)!}{n!m!}$.  Dans ce cas, il ne faudrait plus faire des permutations aléatoires mais bien énumérer toutes les permutations possibles. Cette solution est irréalisable dès lors que les données étudiées dépasse quelques dizaines.\n",
        "\n",
        "Ici, on peut essayer d'augmenter le nombre de permutations en réduisant drastiquement le nombre de simulations, ce qui devrait avoir pour double conséquence d'améliorer l'approximation de $\\beta_3(\\Theta)$ tout en augmentant l'incertitude de cette approximation. Ce n'est pas vraiment une solution satisfaisante."
      ]
    },
    {
      "cell_type": "code",
      "metadata": {
        "id": "UAbd6n1W5Z3T",
        "colab_type": "code",
        "outputId": "555026aa-096d-47c8-9f78-7045084e9354",
        "colab": {
          "base_uri": "https://localhost:8080/",
          "height": 34
        }
      },
      "source": [
        "n_simulations = 10\n",
        "n_permutations = 4000\n",
        "\n",
        "exp_name = f\"exp2 : K={n_permutations}, N={n_simulations}\"\n",
        "RESULTS[exp_name] = run_experience_2(DELTAS, SIGMAS, ALPHA, n_permutations, n_simulations)"
      ],
      "execution_count": 0,
      "outputs": [
        {
          "output_type": "stream",
          "text": [
            "time: 2min 35s\n"
          ],
          "name": "stdout"
        }
      ]
    },
    {
      "cell_type": "code",
      "metadata": {
        "id": "lr-IpN4RnJfv",
        "colab_type": "code",
        "outputId": "4aa66c65-3f97-41f4-f556-a07e08638068",
        "colab": {
          "base_uri": "https://localhost:8080/",
          "height": 559
        }
      },
      "source": [
        "results_to_plot = filter_results(RESULTS, [\"exp2\"])\n",
        "plot_experience(results_to_plot, SIGMAS)"
      ],
      "execution_count": 0,
      "outputs": [
        {
          "output_type": "display_data",
          "data": {
            "text/html": [
              "<html>\n",
              "<head><meta charset=\"utf-8\" /></head>\n",
              "<body>\n",
              "    <div>\n",
              "            <script src=\"https://cdnjs.cloudflare.com/ajax/libs/mathjax/2.7.5/MathJax.js?config=TeX-AMS-MML_SVG\"></script><script type=\"text/javascript\">if (window.MathJax) {MathJax.Hub.Config({SVG: {font: \"STIX-Web\"}});}</script>\n",
              "                <script type=\"text/javascript\">window.PlotlyConfig = {MathJaxConfig: 'local'};</script>\n",
              "        <script src=\"https://cdn.plot.ly/plotly-latest.min.js\"></script>    \n",
              "            <div id=\"a5544056-16a0-45de-9a91-a827ad065508\" class=\"plotly-graph-div\" style=\"height:525px; width:100%;\"></div>\n",
              "            <script type=\"text/javascript\">\n",
              "                \n",
              "                    window.PLOTLYENV=window.PLOTLYENV || {};\n",
              "                    \n",
              "                if (document.getElementById(\"a5544056-16a0-45de-9a91-a827ad065508\")) {\n",
              "                    Plotly.newPlot(\n",
              "                        'a5544056-16a0-45de-9a91-a827ad065508',\n",
              "                        [{\"mode\": \"lines\", \"name\": \"sigma=20 (exp2 : K=400, N=1000)\", \"type\": \"scatter\", \"y\": [0.053, 0.063, 0.093, 0.12, 0.144, 0.156, 0.197, 0.242, 0.264, 0.329, 0.367, 0.426, 0.462, 0.537, 0.578, 0.628]}, {\"mode\": \"lines\", \"name\": \"sigma=30 (exp2 : K=400, N=1000)\", \"type\": \"scatter\", \"y\": [0.045, 0.056, 0.079, 0.075, 0.094, 0.099, 0.136, 0.144, 0.193, 0.173, 0.224, 0.262, 0.26, 0.291, 0.313, 0.361]}, {\"mode\": \"lines\", \"name\": \"sigma=40 (exp2 : K=400, N=1000)\", \"type\": \"scatter\", \"y\": [0.054, 0.043, 0.073, 0.086, 0.077, 0.1, 0.098, 0.116, 0.147, 0.149, 0.165, 0.195, 0.193, 0.219, 0.231, 0.279]}, {\"mode\": \"lines\", \"name\": \"sigma=20 (exp2 : K=4000, N=10)\", \"type\": \"scatter\", \"y\": [0.1, 0.1, 0.1, 0.2, 0.2, 0.0, 0.1, 0.0, 0.3, 0.2, 0.4, 0.6, 0.3, 0.4, 0.3, 0.8]}, {\"mode\": \"lines\", \"name\": \"sigma=30 (exp2 : K=4000, N=10)\", \"type\": \"scatter\", \"y\": [0.0, 0.1, 0.0, 0.1, 0.2, 0.1, 0.1, 0.1, 0.2, 0.2, 0.3, 0.3, 0.2, 0.4, 0.4, 0.4]}, {\"mode\": \"lines\", \"name\": \"sigma=40 (exp2 : K=4000, N=10)\", \"type\": \"scatter\", \"y\": [0.0, 0.2, 0.0, 0.0, 0.2, 0.1, 0.1, 0.3, 0.0, 0.1, 0.1, 0.2, 0.5, 0.0, 0.6, 0.2]}],\n",
              "                        {\"legend\": {\"orientation\": \"v\"}, \"template\": {\"data\": {\"bar\": [{\"error_x\": {\"color\": \"#2a3f5f\"}, \"error_y\": {\"color\": \"#2a3f5f\"}, \"marker\": {\"line\": {\"color\": \"#E5ECF6\", \"width\": 0.5}}, \"type\": \"bar\"}], \"barpolar\": [{\"marker\": {\"line\": {\"color\": \"#E5ECF6\", \"width\": 0.5}}, \"type\": \"barpolar\"}], \"carpet\": [{\"aaxis\": {\"endlinecolor\": \"#2a3f5f\", \"gridcolor\": \"white\", \"linecolor\": \"white\", \"minorgridcolor\": \"white\", \"startlinecolor\": \"#2a3f5f\"}, \"baxis\": {\"endlinecolor\": \"#2a3f5f\", \"gridcolor\": \"white\", \"linecolor\": \"white\", \"minorgridcolor\": \"white\", \"startlinecolor\": \"#2a3f5f\"}, \"type\": \"carpet\"}], \"choropleth\": [{\"colorbar\": {\"outlinewidth\": 0, \"ticks\": \"\"}, \"type\": \"choropleth\"}], \"contour\": [{\"colorbar\": {\"outlinewidth\": 0, \"ticks\": \"\"}, \"colorscale\": [[0.0, \"#0d0887\"], [0.1111111111111111, \"#46039f\"], [0.2222222222222222, \"#7201a8\"], [0.3333333333333333, \"#9c179e\"], [0.4444444444444444, \"#bd3786\"], [0.5555555555555556, \"#d8576b\"], [0.6666666666666666, \"#ed7953\"], [0.7777777777777778, \"#fb9f3a\"], [0.8888888888888888, \"#fdca26\"], [1.0, \"#f0f921\"]], \"type\": \"contour\"}], \"contourcarpet\": [{\"colorbar\": {\"outlinewidth\": 0, \"ticks\": \"\"}, \"type\": \"contourcarpet\"}], \"heatmap\": [{\"colorbar\": {\"outlinewidth\": 0, \"ticks\": \"\"}, \"colorscale\": [[0.0, \"#0d0887\"], [0.1111111111111111, \"#46039f\"], [0.2222222222222222, \"#7201a8\"], [0.3333333333333333, \"#9c179e\"], [0.4444444444444444, \"#bd3786\"], [0.5555555555555556, \"#d8576b\"], [0.6666666666666666, \"#ed7953\"], [0.7777777777777778, \"#fb9f3a\"], [0.8888888888888888, \"#fdca26\"], [1.0, \"#f0f921\"]], \"type\": \"heatmap\"}], \"heatmapgl\": [{\"colorbar\": {\"outlinewidth\": 0, \"ticks\": \"\"}, \"colorscale\": [[0.0, \"#0d0887\"], [0.1111111111111111, \"#46039f\"], [0.2222222222222222, \"#7201a8\"], [0.3333333333333333, \"#9c179e\"], [0.4444444444444444, \"#bd3786\"], [0.5555555555555556, \"#d8576b\"], [0.6666666666666666, \"#ed7953\"], [0.7777777777777778, \"#fb9f3a\"], [0.8888888888888888, \"#fdca26\"], [1.0, \"#f0f921\"]], \"type\": \"heatmapgl\"}], \"histogram\": [{\"marker\": {\"colorbar\": {\"outlinewidth\": 0, \"ticks\": \"\"}}, \"type\": \"histogram\"}], \"histogram2d\": [{\"colorbar\": {\"outlinewidth\": 0, \"ticks\": \"\"}, \"colorscale\": [[0.0, \"#0d0887\"], [0.1111111111111111, \"#46039f\"], [0.2222222222222222, \"#7201a8\"], [0.3333333333333333, \"#9c179e\"], [0.4444444444444444, \"#bd3786\"], [0.5555555555555556, \"#d8576b\"], [0.6666666666666666, \"#ed7953\"], [0.7777777777777778, \"#fb9f3a\"], [0.8888888888888888, \"#fdca26\"], [1.0, \"#f0f921\"]], \"type\": \"histogram2d\"}], \"histogram2dcontour\": [{\"colorbar\": {\"outlinewidth\": 0, \"ticks\": \"\"}, \"colorscale\": [[0.0, \"#0d0887\"], [0.1111111111111111, \"#46039f\"], [0.2222222222222222, \"#7201a8\"], [0.3333333333333333, \"#9c179e\"], [0.4444444444444444, \"#bd3786\"], [0.5555555555555556, \"#d8576b\"], [0.6666666666666666, \"#ed7953\"], [0.7777777777777778, \"#fb9f3a\"], [0.8888888888888888, \"#fdca26\"], [1.0, \"#f0f921\"]], \"type\": \"histogram2dcontour\"}], \"mesh3d\": [{\"colorbar\": {\"outlinewidth\": 0, \"ticks\": \"\"}, \"type\": \"mesh3d\"}], \"parcoords\": [{\"line\": {\"colorbar\": {\"outlinewidth\": 0, \"ticks\": \"\"}}, \"type\": \"parcoords\"}], \"scatter\": [{\"marker\": {\"colorbar\": {\"outlinewidth\": 0, \"ticks\": \"\"}}, \"type\": \"scatter\"}], \"scatter3d\": [{\"line\": {\"colorbar\": {\"outlinewidth\": 0, \"ticks\": \"\"}}, \"marker\": {\"colorbar\": {\"outlinewidth\": 0, \"ticks\": \"\"}}, \"type\": \"scatter3d\"}], \"scattercarpet\": [{\"marker\": {\"colorbar\": {\"outlinewidth\": 0, \"ticks\": \"\"}}, \"type\": \"scattercarpet\"}], \"scattergeo\": [{\"marker\": {\"colorbar\": {\"outlinewidth\": 0, \"ticks\": \"\"}}, \"type\": \"scattergeo\"}], \"scattergl\": [{\"marker\": {\"colorbar\": {\"outlinewidth\": 0, \"ticks\": \"\"}}, \"type\": \"scattergl\"}], \"scattermapbox\": [{\"marker\": {\"colorbar\": {\"outlinewidth\": 0, \"ticks\": \"\"}}, \"type\": \"scattermapbox\"}], \"scatterpolar\": [{\"marker\": {\"colorbar\": {\"outlinewidth\": 0, \"ticks\": \"\"}}, \"type\": \"scatterpolar\"}], \"scatterpolargl\": [{\"marker\": {\"colorbar\": {\"outlinewidth\": 0, \"ticks\": \"\"}}, \"type\": \"scatterpolargl\"}], \"scatterternary\": [{\"marker\": {\"colorbar\": {\"outlinewidth\": 0, \"ticks\": \"\"}}, \"type\": \"scatterternary\"}], \"surface\": [{\"colorbar\": {\"outlinewidth\": 0, \"ticks\": \"\"}, \"colorscale\": [[0.0, \"#0d0887\"], [0.1111111111111111, \"#46039f\"], [0.2222222222222222, \"#7201a8\"], [0.3333333333333333, \"#9c179e\"], [0.4444444444444444, \"#bd3786\"], [0.5555555555555556, \"#d8576b\"], [0.6666666666666666, \"#ed7953\"], [0.7777777777777778, \"#fb9f3a\"], [0.8888888888888888, \"#fdca26\"], [1.0, \"#f0f921\"]], \"type\": \"surface\"}], \"table\": [{\"cells\": {\"fill\": {\"color\": \"#EBF0F8\"}, \"line\": {\"color\": \"white\"}}, \"header\": {\"fill\": {\"color\": \"#C8D4E3\"}, \"line\": {\"color\": \"white\"}}, \"type\": \"table\"}]}, \"layout\": {\"annotationdefaults\": {\"arrowcolor\": \"#2a3f5f\", \"arrowhead\": 0, \"arrowwidth\": 1}, \"colorscale\": {\"diverging\": [[0, \"#8e0152\"], [0.1, \"#c51b7d\"], [0.2, \"#de77ae\"], [0.3, \"#f1b6da\"], [0.4, \"#fde0ef\"], [0.5, \"#f7f7f7\"], [0.6, \"#e6f5d0\"], [0.7, \"#b8e186\"], [0.8, \"#7fbc41\"], [0.9, \"#4d9221\"], [1, \"#276419\"]], \"sequential\": [[0.0, \"#0d0887\"], [0.1111111111111111, \"#46039f\"], [0.2222222222222222, \"#7201a8\"], [0.3333333333333333, \"#9c179e\"], [0.4444444444444444, \"#bd3786\"], [0.5555555555555556, \"#d8576b\"], [0.6666666666666666, \"#ed7953\"], [0.7777777777777778, \"#fb9f3a\"], [0.8888888888888888, \"#fdca26\"], [1.0, \"#f0f921\"]], \"sequentialminus\": [[0.0, \"#0d0887\"], [0.1111111111111111, \"#46039f\"], [0.2222222222222222, \"#7201a8\"], [0.3333333333333333, \"#9c179e\"], [0.4444444444444444, \"#bd3786\"], [0.5555555555555556, \"#d8576b\"], [0.6666666666666666, \"#ed7953\"], [0.7777777777777778, \"#fb9f3a\"], [0.8888888888888888, \"#fdca26\"], [1.0, \"#f0f921\"]]}, \"colorway\": [\"#636efa\", \"#EF553B\", \"#00cc96\", \"#ab63fa\", \"#FFA15A\", \"#19d3f3\", \"#FF6692\", \"#B6E880\", \"#FF97FF\", \"#FECB52\"], \"font\": {\"color\": \"#2a3f5f\"}, \"geo\": {\"bgcolor\": \"white\", \"lakecolor\": \"white\", \"landcolor\": \"#E5ECF6\", \"showlakes\": true, \"showland\": true, \"subunitcolor\": \"white\"}, \"hoverlabel\": {\"align\": \"left\"}, \"hovermode\": \"closest\", \"mapbox\": {\"style\": \"light\"}, \"paper_bgcolor\": \"white\", \"plot_bgcolor\": \"#E5ECF6\", \"polar\": {\"angularaxis\": {\"gridcolor\": \"white\", \"linecolor\": \"white\", \"ticks\": \"\"}, \"bgcolor\": \"#E5ECF6\", \"radialaxis\": {\"gridcolor\": \"white\", \"linecolor\": \"white\", \"ticks\": \"\"}}, \"scene\": {\"xaxis\": {\"backgroundcolor\": \"#E5ECF6\", \"gridcolor\": \"white\", \"gridwidth\": 2, \"linecolor\": \"white\", \"showbackground\": true, \"ticks\": \"\", \"zerolinecolor\": \"white\"}, \"yaxis\": {\"backgroundcolor\": \"#E5ECF6\", \"gridcolor\": \"white\", \"gridwidth\": 2, \"linecolor\": \"white\", \"showbackground\": true, \"ticks\": \"\", \"zerolinecolor\": \"white\"}, \"zaxis\": {\"backgroundcolor\": \"#E5ECF6\", \"gridcolor\": \"white\", \"gridwidth\": 2, \"linecolor\": \"white\", \"showbackground\": true, \"ticks\": \"\", \"zerolinecolor\": \"white\"}}, \"shapedefaults\": {\"line\": {\"color\": \"#2a3f5f\"}}, \"ternary\": {\"aaxis\": {\"gridcolor\": \"white\", \"linecolor\": \"white\", \"ticks\": \"\"}, \"baxis\": {\"gridcolor\": \"white\", \"linecolor\": \"white\", \"ticks\": \"\"}, \"bgcolor\": \"#E5ECF6\", \"caxis\": {\"gridcolor\": \"white\", \"linecolor\": \"white\", \"ticks\": \"\"}}, \"title\": {\"x\": 0.05}, \"xaxis\": {\"automargin\": true, \"gridcolor\": \"white\", \"linecolor\": \"white\", \"ticks\": \"\", \"zerolinecolor\": \"white\", \"zerolinewidth\": 2}, \"yaxis\": {\"automargin\": true, \"gridcolor\": \"white\", \"linecolor\": \"white\", \"ticks\": \"\", \"zerolinecolor\": \"white\", \"zerolinewidth\": 2}}}, \"title\": {\"text\": \"\\u00e9tude de la puissance du test en fonction de delta\"}, \"xaxis\": {\"title\": {\"text\": \"delta (mu2 - mu1)\"}}, \"yaxis\": {\"title\": {\"text\": \"puissance du test\"}}},\n",
              "                        {\"responsive\": true}\n",
              "                    ).then(function(){\n",
              "                            \n",
              "var gd = document.getElementById('a5544056-16a0-45de-9a91-a827ad065508');\n",
              "var x = new MutationObserver(function (mutations, observer) {{\n",
              "        var display = window.getComputedStyle(gd).display;\n",
              "        if (!display || display === 'none') {{\n",
              "            console.log([gd, 'removed!']);\n",
              "            Plotly.purge(gd);\n",
              "            observer.disconnect();\n",
              "        }}\n",
              "}});\n",
              "\n",
              "// Listen for the removal of the full notebook cells\n",
              "var notebookContainer = gd.closest('#notebook-container');\n",
              "if (notebookContainer) {{\n",
              "    x.observe(notebookContainer, {childList: true});\n",
              "}}\n",
              "\n",
              "// Listen for the clearing of the current output cell\n",
              "var outputEl = gd.closest('.output');\n",
              "if (outputEl) {{\n",
              "    x.observe(outputEl, {childList: true});\n",
              "}}\n",
              "\n",
              "                        })\n",
              "                };\n",
              "                \n",
              "            </script>\n",
              "        </div>\n",
              "</body>\n",
              "</html>"
            ]
          },
          "metadata": {
            "tags": []
          }
        },
        {
          "output_type": "stream",
          "text": [
            "time: 191 ms\n"
          ],
          "name": "stdout"
        }
      ]
    },
    {
      "cell_type": "markdown",
      "metadata": {
        "id": "M3lwooABIvGK",
        "colab_type": "text"
      },
      "source": [
        "* Effectivement, c'est assez bancal et pas du tout satisfaisant..."
      ]
    },
    {
      "cell_type": "markdown",
      "metadata": {
        "id": "hnU58s5TMtDz",
        "colab_type": "text"
      },
      "source": [
        "## **Partie 5 : amélioration de l'approximation**"
      ]
    },
    {
      "cell_type": "markdown",
      "metadata": {
        "id": "3kiVfE4m2Dh6",
        "colab_type": "text"
      },
      "source": [
        "## **5.1** Décrire en quelques lignes quel est l'objectif de l'article en question."
      ]
    },
    {
      "cell_type": "markdown",
      "metadata": {
        "id": "RIfKpkEX2IX4",
        "colab_type": "text"
      },
      "source": [
        "L'article présente une méthode d'extrapolation linéaire de la méthode de Monte-Carlo pour évaluer la puissance d'un test. La méthode exposée en partie 4 est extrêmement coûteuse en temps d'exécution, et cette nouvelle méthode permet de réduire le temps de calcul, en effectuant un petit nombre de permutations à chaque itération.\n",
        "\n",
        "Leur objectif est de rendre plus performant l'évaluation de la puissance du test pour un nombre total de permutations effectuées inférieur à celui de la partie 4. \n",
        "\n",
        "Par exemple ici, on effectue 99, 79, 59, 39 puis 19 permutations (=295) contre 400 pour la partie 4."
      ]
    },
    {
      "cell_type": "markdown",
      "metadata": {
        "id": "7V878nUG2I6U",
        "colab_type": "text"
      },
      "source": [
        "## **5.2** Quelle est l'idée de l'algorithme ?"
      ]
    },
    {
      "cell_type": "markdown",
      "metadata": {
        "id": "5T_hz-In2Q6Z",
        "colab_type": "text"
      },
      "source": [
        "L'idée de l'algorithme vient de la dépendance linéaire, sous certaines conditions, entre la puissance du test évalué et l'inverse du nombre de permutations $I$ qui ont été nécéssaires.\n",
        "\n",
        "Ainsi, plutôt que d'augmenter au maximum le nombre de permutations de notre jeu de données, on effectue plusieurs évaluations de la puissance pour des nombres faibles $I$ de permutations, et on extrapôle avec une régression linéaire la puissance qu'on obtiendrait en faisant tendre $I$ vers l'infini, c'est à dire $\\frac{1}{I}$ vers 0."
      ]
    },
    {
      "cell_type": "markdown",
      "metadata": {
        "id": "RM20USHi2TLf",
        "colab_type": "text"
      },
      "source": [
        "## **5.3** * Implémenter l'algorithme."
      ]
    },
    {
      "cell_type": "markdown",
      "metadata": {
        "id": "OHYBHlipHnxm",
        "colab_type": "text"
      },
      "source": [
        "```\n",
        "rejets = [0] * len(n_permutations)\n",
        "\n",
        "faire idx, K dans enumerate(`n_permutations`)\n",
        "    faire `n_simulations` fois\n",
        "        x, y = i.i.d avec X ~ N(0 ou `delta`, `sigma`)\n",
        "        t_obs = calcul d'un test(x, y)\n",
        "\n",
        "        p_hat = approxP(x, y, t_obs, K)\n",
        "\n",
        "        si p_hat < `alpha`\n",
        "            rejets[K] += 1\n",
        "    rejets[K] /= `simulations`\n",
        "\n",
        "x = [1/val for val in `n_permutations`]\n",
        "y = [rejets]\n",
        "\n",
        "entrainer un classifier linéaire `clf` avec x, y\n",
        "retourner la prédiction de `clf` pour x=0\n",
        "```\n",
        "\n"
      ]
    },
    {
      "cell_type": "code",
      "metadata": {
        "id": "8XJjNEasHrvN",
        "colab_type": "code",
        "outputId": "f05f6418-187e-4b1b-942f-72258a85f719",
        "colab": {
          "base_uri": "https://localhost:8080/",
          "height": 34
        }
      },
      "source": [
        "def puiss5(delta, sigma, alpha, n_permutations, n_simulations):\n",
        "    n_rejections = [0] * len(n_permutations)\n",
        "\n",
        "    for idx_sim, n_permutation in enumerate(n_permutations):\n",
        "        for _ in range(n_simulations):\n",
        "            x1, x2 = genereDonnees(delta, sigma)\n",
        "            t_obs = calculeT(x1, x2)\n",
        "\n",
        "            p_value = approxP(x1, x2, t_obs, n_permutation)\n",
        "            if p_value < alpha:\n",
        "                n_rejections[idx_sim] += 1\n",
        "        \n",
        "        n_rejections[idx_sim] /= n_simulations\n",
        "\n",
        "    # régression linéaire pour extrapoler le résultat en 0\n",
        "    # ce qui voudrait dire qu'on a effectué un nombre infini de permutations\n",
        "    x = np.array([1/val for val in n_permutations]).reshape(-1, 1)\n",
        "    y = np.array(n_rejections)\n",
        "    \n",
        "    clf = LinearRegression()\n",
        "    clf.fit(x, y)\n",
        "\n",
        "    predict = clf.predict(np.array(0).reshape(-1, 1))\n",
        "    return predict[0]"
      ],
      "execution_count": 0,
      "outputs": [
        {
          "output_type": "stream",
          "text": [
            "time: 16.1 ms\n"
          ],
          "name": "stdout"
        }
      ]
    },
    {
      "cell_type": "markdown",
      "metadata": {
        "id": "jRxKb3g8Kd69",
        "colab_type": "text"
      },
      "source": [
        "**5.4** * L'utiliser et conclure"
      ]
    },
    {
      "cell_type": "code",
      "metadata": {
        "id": "2DR2lMYcKea0",
        "colab_type": "code",
        "outputId": "e6bbc33b-1305-4c6c-9006-6ac64639de4d",
        "colab": {
          "base_uri": "https://localhost:8080/",
          "height": 34
        }
      },
      "source": [
        "def run_experience_3(deltas, sigmas, alpha, n_permutations, n_simulations):\n",
        "    results = []\n",
        "\n",
        "    for sigma in sigmas:\n",
        "        result = []\n",
        "        for delta in deltas:\n",
        "            result.append(puiss5(delta, sigma, alpha, n_permutations, n_simulations))\n",
        "        results.append(result)\n",
        "    \n",
        "    return results"
      ],
      "execution_count": 0,
      "outputs": [
        {
          "output_type": "stream",
          "text": [
            "time: 7.78 ms\n"
          ],
          "name": "stdout"
        }
      ]
    },
    {
      "cell_type": "markdown",
      "metadata": {
        "id": "ysp4pHXSGesQ",
        "colab_type": "text"
      },
      "source": [
        "**!!! L'EXECUTION DE LA CELLULE SUIVANTE PREND AU MOINS 15 MINUTES !!!**"
      ]
    },
    {
      "cell_type": "code",
      "metadata": {
        "id": "ufVK-rbdH30G",
        "colab_type": "code",
        "outputId": "662b5f4b-aa9a-4968-f629-818abb524b51",
        "colab": {
          "base_uri": "https://localhost:8080/",
          "height": 34
        }
      },
      "source": [
        "# on prend les mêmes permutations que dans le papier\n",
        "# il est très très long d'exécuter le code qui suit pour le même\n",
        "# nombre de simulations (4000) utilisé dans l'article, qui en plus\n",
        "# utilise des tailles de vecteur de données plus faibles (8 et 4 vs 13 et 16)\n",
        "\n",
        "n_simulations = 10**3\n",
        "n_permutations = [19, 39, 59, 79, 99]\n",
        "\n",
        "exp_name = f\"exp3 : K={n_permutations}, N={n_simulations}\"\n",
        "RESULTS[exp_name] = run_experience_3(DELTAS, SIGMAS, ALPHA, n_permutations, n_simulations)"
      ],
      "execution_count": 0,
      "outputs": [
        {
          "output_type": "stream",
          "text": [
            "time: 19min 35s\n"
          ],
          "name": "stdout"
        }
      ]
    },
    {
      "cell_type": "markdown",
      "metadata": {
        "id": "f5S3jHEEIZCG",
        "colab_type": "text"
      },
      "source": [
        "* comparons l'évaluation de la puissance du test entre la partie 4 et 5"
      ]
    },
    {
      "cell_type": "code",
      "metadata": {
        "id": "N3V7ET8khmP-",
        "colab_type": "code",
        "outputId": "afe2f19e-4f72-4e22-b0fb-6445bfc0090f",
        "colab": {
          "base_uri": "https://localhost:8080/",
          "height": 559
        }
      },
      "source": [
        "results_to_plot = filter_results(RESULTS, [\"exp2 : K=400, N=1000\", \"exp3\"])\n",
        "plot_experience(results_to_plot, SIGMAS)"
      ],
      "execution_count": 0,
      "outputs": [
        {
          "output_type": "display_data",
          "data": {
            "text/html": [
              "<html>\n",
              "<head><meta charset=\"utf-8\" /></head>\n",
              "<body>\n",
              "    <div>\n",
              "            <script src=\"https://cdnjs.cloudflare.com/ajax/libs/mathjax/2.7.5/MathJax.js?config=TeX-AMS-MML_SVG\"></script><script type=\"text/javascript\">if (window.MathJax) {MathJax.Hub.Config({SVG: {font: \"STIX-Web\"}});}</script>\n",
              "                <script type=\"text/javascript\">window.PlotlyConfig = {MathJaxConfig: 'local'};</script>\n",
              "        <script src=\"https://cdn.plot.ly/plotly-latest.min.js\"></script>    \n",
              "            <div id=\"fef1c87d-67d4-4930-9d1e-bbe15c1c2001\" class=\"plotly-graph-div\" style=\"height:525px; width:100%;\"></div>\n",
              "            <script type=\"text/javascript\">\n",
              "                \n",
              "                    window.PLOTLYENV=window.PLOTLYENV || {};\n",
              "                    \n",
              "                if (document.getElementById(\"fef1c87d-67d4-4930-9d1e-bbe15c1c2001\")) {\n",
              "                    Plotly.newPlot(\n",
              "                        'fef1c87d-67d4-4930-9d1e-bbe15c1c2001',\n",
              "                        [{\"mode\": \"lines\", \"name\": \"sigma=20 (exp2 : K=400, N=1000)\", \"type\": \"scatter\", \"y\": [0.053, 0.063, 0.093, 0.12, 0.144, 0.156, 0.197, 0.242, 0.264, 0.329, 0.367, 0.426, 0.462, 0.537, 0.578, 0.628]}, {\"mode\": \"lines\", \"name\": \"sigma=30 (exp2 : K=400, N=1000)\", \"type\": \"scatter\", \"y\": [0.045, 0.056, 0.079, 0.075, 0.094, 0.099, 0.136, 0.144, 0.193, 0.173, 0.224, 0.262, 0.26, 0.291, 0.313, 0.361]}, {\"mode\": \"lines\", \"name\": \"sigma=40 (exp2 : K=400, N=1000)\", \"type\": \"scatter\", \"y\": [0.054, 0.043, 0.073, 0.086, 0.077, 0.1, 0.098, 0.116, 0.147, 0.149, 0.165, 0.195, 0.193, 0.219, 0.231, 0.279]}, {\"mode\": \"lines\", \"name\": \"sigma=20 (exp3 : K=[19, 39, 59, 79, 99], N=1000)\", \"type\": \"scatter\", \"y\": [0.05036750555003189, 0.07945306087890537, 0.06948509832283209, 0.10150967899368306, 0.12674010763124344, 0.15632213874899067, 0.18507724932637787, 0.220645755595217, 0.27559071416469044, 0.31345882069405806, 0.3630964393958844, 0.39452313424197766, 0.49349870825231185, 0.5406174292353204, 0.5842311839101626, 0.64029426066674]}, {\"mode\": \"lines\", \"name\": \"sigma=30 (exp3 : K=[19, 39, 59, 79, 99], N=1000)\", \"type\": \"scatter\", \"y\": [0.061825990066335025, 0.053368407127209416, 0.06687408692734709, 0.08173968079531106, 0.11325867051140211, 0.09680429646415194, 0.14247161609622627, 0.15536644958515852, 0.168683968030055, 0.21414849010893997, 0.21369269104593505, 0.23904091897052626, 0.2702464128613503, 0.314589879991177, 0.3333730816641275, 0.3748847297370107]}, {\"mode\": \"lines\", \"name\": \"sigma=40 (exp3 : K=[19, 39, 59, 79, 99], N=1000)\", \"type\": \"scatter\", \"y\": [0.05514705012683313, 0.05901525048245577, 0.06998477473160203, 0.08067000469368478, 0.07588949971769259, 0.08121897564372588, 0.10971612666159175, 0.13329461118286012, 0.14492820774740486, 0.15006948842429016, 0.16181776461351766, 0.1671397257202991, 0.21248391600925673, 0.211766149995684, 0.24248621119872077, 0.2544494871088243]}],\n",
              "                        {\"legend\": {\"orientation\": \"v\"}, \"template\": {\"data\": {\"bar\": [{\"error_x\": {\"color\": \"#2a3f5f\"}, \"error_y\": {\"color\": \"#2a3f5f\"}, \"marker\": {\"line\": {\"color\": \"#E5ECF6\", \"width\": 0.5}}, \"type\": \"bar\"}], \"barpolar\": [{\"marker\": {\"line\": {\"color\": \"#E5ECF6\", \"width\": 0.5}}, \"type\": \"barpolar\"}], \"carpet\": [{\"aaxis\": {\"endlinecolor\": \"#2a3f5f\", \"gridcolor\": \"white\", \"linecolor\": \"white\", \"minorgridcolor\": \"white\", \"startlinecolor\": \"#2a3f5f\"}, \"baxis\": {\"endlinecolor\": \"#2a3f5f\", \"gridcolor\": \"white\", \"linecolor\": \"white\", \"minorgridcolor\": \"white\", \"startlinecolor\": \"#2a3f5f\"}, \"type\": \"carpet\"}], \"choropleth\": [{\"colorbar\": {\"outlinewidth\": 0, \"ticks\": \"\"}, \"type\": \"choropleth\"}], \"contour\": [{\"colorbar\": {\"outlinewidth\": 0, \"ticks\": \"\"}, \"colorscale\": [[0.0, \"#0d0887\"], [0.1111111111111111, \"#46039f\"], [0.2222222222222222, \"#7201a8\"], [0.3333333333333333, \"#9c179e\"], [0.4444444444444444, \"#bd3786\"], [0.5555555555555556, \"#d8576b\"], [0.6666666666666666, \"#ed7953\"], [0.7777777777777778, \"#fb9f3a\"], [0.8888888888888888, \"#fdca26\"], [1.0, \"#f0f921\"]], \"type\": \"contour\"}], \"contourcarpet\": [{\"colorbar\": {\"outlinewidth\": 0, \"ticks\": \"\"}, \"type\": \"contourcarpet\"}], \"heatmap\": [{\"colorbar\": {\"outlinewidth\": 0, \"ticks\": \"\"}, \"colorscale\": [[0.0, \"#0d0887\"], [0.1111111111111111, \"#46039f\"], [0.2222222222222222, \"#7201a8\"], [0.3333333333333333, \"#9c179e\"], [0.4444444444444444, \"#bd3786\"], [0.5555555555555556, \"#d8576b\"], [0.6666666666666666, \"#ed7953\"], [0.7777777777777778, \"#fb9f3a\"], [0.8888888888888888, \"#fdca26\"], [1.0, \"#f0f921\"]], \"type\": \"heatmap\"}], \"heatmapgl\": [{\"colorbar\": {\"outlinewidth\": 0, \"ticks\": \"\"}, \"colorscale\": [[0.0, \"#0d0887\"], [0.1111111111111111, \"#46039f\"], [0.2222222222222222, \"#7201a8\"], [0.3333333333333333, \"#9c179e\"], [0.4444444444444444, \"#bd3786\"], [0.5555555555555556, \"#d8576b\"], [0.6666666666666666, \"#ed7953\"], [0.7777777777777778, \"#fb9f3a\"], [0.8888888888888888, \"#fdca26\"], [1.0, \"#f0f921\"]], \"type\": \"heatmapgl\"}], \"histogram\": [{\"marker\": {\"colorbar\": {\"outlinewidth\": 0, \"ticks\": \"\"}}, \"type\": \"histogram\"}], \"histogram2d\": [{\"colorbar\": {\"outlinewidth\": 0, \"ticks\": \"\"}, \"colorscale\": [[0.0, \"#0d0887\"], [0.1111111111111111, \"#46039f\"], [0.2222222222222222, \"#7201a8\"], [0.3333333333333333, \"#9c179e\"], [0.4444444444444444, \"#bd3786\"], [0.5555555555555556, \"#d8576b\"], [0.6666666666666666, \"#ed7953\"], [0.7777777777777778, \"#fb9f3a\"], [0.8888888888888888, \"#fdca26\"], [1.0, \"#f0f921\"]], \"type\": \"histogram2d\"}], \"histogram2dcontour\": [{\"colorbar\": {\"outlinewidth\": 0, \"ticks\": \"\"}, \"colorscale\": [[0.0, \"#0d0887\"], [0.1111111111111111, \"#46039f\"], [0.2222222222222222, \"#7201a8\"], [0.3333333333333333, \"#9c179e\"], [0.4444444444444444, \"#bd3786\"], [0.5555555555555556, \"#d8576b\"], [0.6666666666666666, \"#ed7953\"], [0.7777777777777778, \"#fb9f3a\"], [0.8888888888888888, \"#fdca26\"], [1.0, \"#f0f921\"]], \"type\": \"histogram2dcontour\"}], \"mesh3d\": [{\"colorbar\": {\"outlinewidth\": 0, \"ticks\": \"\"}, \"type\": \"mesh3d\"}], \"parcoords\": [{\"line\": {\"colorbar\": {\"outlinewidth\": 0, \"ticks\": \"\"}}, \"type\": \"parcoords\"}], \"scatter\": [{\"marker\": {\"colorbar\": {\"outlinewidth\": 0, \"ticks\": \"\"}}, \"type\": \"scatter\"}], \"scatter3d\": [{\"line\": {\"colorbar\": {\"outlinewidth\": 0, \"ticks\": \"\"}}, \"marker\": {\"colorbar\": {\"outlinewidth\": 0, \"ticks\": \"\"}}, \"type\": \"scatter3d\"}], \"scattercarpet\": [{\"marker\": {\"colorbar\": {\"outlinewidth\": 0, \"ticks\": \"\"}}, \"type\": \"scattercarpet\"}], \"scattergeo\": [{\"marker\": {\"colorbar\": {\"outlinewidth\": 0, \"ticks\": \"\"}}, \"type\": \"scattergeo\"}], \"scattergl\": [{\"marker\": {\"colorbar\": {\"outlinewidth\": 0, \"ticks\": \"\"}}, \"type\": \"scattergl\"}], \"scattermapbox\": [{\"marker\": {\"colorbar\": {\"outlinewidth\": 0, \"ticks\": \"\"}}, \"type\": \"scattermapbox\"}], \"scatterpolar\": [{\"marker\": {\"colorbar\": {\"outlinewidth\": 0, \"ticks\": \"\"}}, \"type\": \"scatterpolar\"}], \"scatterpolargl\": [{\"marker\": {\"colorbar\": {\"outlinewidth\": 0, \"ticks\": \"\"}}, \"type\": \"scatterpolargl\"}], \"scatterternary\": [{\"marker\": {\"colorbar\": {\"outlinewidth\": 0, \"ticks\": \"\"}}, \"type\": \"scatterternary\"}], \"surface\": [{\"colorbar\": {\"outlinewidth\": 0, \"ticks\": \"\"}, \"colorscale\": [[0.0, \"#0d0887\"], [0.1111111111111111, \"#46039f\"], [0.2222222222222222, \"#7201a8\"], [0.3333333333333333, \"#9c179e\"], [0.4444444444444444, \"#bd3786\"], [0.5555555555555556, \"#d8576b\"], [0.6666666666666666, \"#ed7953\"], [0.7777777777777778, \"#fb9f3a\"], [0.8888888888888888, \"#fdca26\"], [1.0, \"#f0f921\"]], \"type\": \"surface\"}], \"table\": [{\"cells\": {\"fill\": {\"color\": \"#EBF0F8\"}, \"line\": {\"color\": \"white\"}}, \"header\": {\"fill\": {\"color\": \"#C8D4E3\"}, \"line\": {\"color\": \"white\"}}, \"type\": \"table\"}]}, \"layout\": {\"annotationdefaults\": {\"arrowcolor\": \"#2a3f5f\", \"arrowhead\": 0, \"arrowwidth\": 1}, \"colorscale\": {\"diverging\": [[0, \"#8e0152\"], [0.1, \"#c51b7d\"], [0.2, \"#de77ae\"], [0.3, \"#f1b6da\"], [0.4, \"#fde0ef\"], [0.5, \"#f7f7f7\"], [0.6, \"#e6f5d0\"], [0.7, \"#b8e186\"], [0.8, \"#7fbc41\"], [0.9, \"#4d9221\"], [1, \"#276419\"]], \"sequential\": [[0.0, \"#0d0887\"], [0.1111111111111111, \"#46039f\"], [0.2222222222222222, \"#7201a8\"], [0.3333333333333333, \"#9c179e\"], [0.4444444444444444, \"#bd3786\"], [0.5555555555555556, \"#d8576b\"], [0.6666666666666666, \"#ed7953\"], [0.7777777777777778, \"#fb9f3a\"], [0.8888888888888888, \"#fdca26\"], [1.0, \"#f0f921\"]], \"sequentialminus\": [[0.0, \"#0d0887\"], [0.1111111111111111, \"#46039f\"], [0.2222222222222222, \"#7201a8\"], [0.3333333333333333, \"#9c179e\"], [0.4444444444444444, \"#bd3786\"], [0.5555555555555556, \"#d8576b\"], [0.6666666666666666, \"#ed7953\"], [0.7777777777777778, \"#fb9f3a\"], [0.8888888888888888, \"#fdca26\"], [1.0, \"#f0f921\"]]}, \"colorway\": [\"#636efa\", \"#EF553B\", \"#00cc96\", \"#ab63fa\", \"#FFA15A\", \"#19d3f3\", \"#FF6692\", \"#B6E880\", \"#FF97FF\", \"#FECB52\"], \"font\": {\"color\": \"#2a3f5f\"}, \"geo\": {\"bgcolor\": \"white\", \"lakecolor\": \"white\", \"landcolor\": \"#E5ECF6\", \"showlakes\": true, \"showland\": true, \"subunitcolor\": \"white\"}, \"hoverlabel\": {\"align\": \"left\"}, \"hovermode\": \"closest\", \"mapbox\": {\"style\": \"light\"}, \"paper_bgcolor\": \"white\", \"plot_bgcolor\": \"#E5ECF6\", \"polar\": {\"angularaxis\": {\"gridcolor\": \"white\", \"linecolor\": \"white\", \"ticks\": \"\"}, \"bgcolor\": \"#E5ECF6\", \"radialaxis\": {\"gridcolor\": \"white\", \"linecolor\": \"white\", \"ticks\": \"\"}}, \"scene\": {\"xaxis\": {\"backgroundcolor\": \"#E5ECF6\", \"gridcolor\": \"white\", \"gridwidth\": 2, \"linecolor\": \"white\", \"showbackground\": true, \"ticks\": \"\", \"zerolinecolor\": \"white\"}, \"yaxis\": {\"backgroundcolor\": \"#E5ECF6\", \"gridcolor\": \"white\", \"gridwidth\": 2, \"linecolor\": \"white\", \"showbackground\": true, \"ticks\": \"\", \"zerolinecolor\": \"white\"}, \"zaxis\": {\"backgroundcolor\": \"#E5ECF6\", \"gridcolor\": \"white\", \"gridwidth\": 2, \"linecolor\": \"white\", \"showbackground\": true, \"ticks\": \"\", \"zerolinecolor\": \"white\"}}, \"shapedefaults\": {\"line\": {\"color\": \"#2a3f5f\"}}, \"ternary\": {\"aaxis\": {\"gridcolor\": \"white\", \"linecolor\": \"white\", \"ticks\": \"\"}, \"baxis\": {\"gridcolor\": \"white\", \"linecolor\": \"white\", \"ticks\": \"\"}, \"bgcolor\": \"#E5ECF6\", \"caxis\": {\"gridcolor\": \"white\", \"linecolor\": \"white\", \"ticks\": \"\"}}, \"title\": {\"x\": 0.05}, \"xaxis\": {\"automargin\": true, \"gridcolor\": \"white\", \"linecolor\": \"white\", \"ticks\": \"\", \"zerolinecolor\": \"white\", \"zerolinewidth\": 2}, \"yaxis\": {\"automargin\": true, \"gridcolor\": \"white\", \"linecolor\": \"white\", \"ticks\": \"\", \"zerolinecolor\": \"white\", \"zerolinewidth\": 2}}}, \"title\": {\"text\": \"\\u00e9tude de la puissance du test en fonction de delta\"}, \"xaxis\": {\"title\": {\"text\": \"delta (mu2 - mu1)\"}}, \"yaxis\": {\"title\": {\"text\": \"puissance du test\"}}},\n",
              "                        {\"responsive\": true}\n",
              "                    ).then(function(){\n",
              "                            \n",
              "var gd = document.getElementById('fef1c87d-67d4-4930-9d1e-bbe15c1c2001');\n",
              "var x = new MutationObserver(function (mutations, observer) {{\n",
              "        var display = window.getComputedStyle(gd).display;\n",
              "        if (!display || display === 'none') {{\n",
              "            console.log([gd, 'removed!']);\n",
              "            Plotly.purge(gd);\n",
              "            observer.disconnect();\n",
              "        }}\n",
              "}});\n",
              "\n",
              "// Listen for the removal of the full notebook cells\n",
              "var notebookContainer = gd.closest('#notebook-container');\n",
              "if (notebookContainer) {{\n",
              "    x.observe(notebookContainer, {childList: true});\n",
              "}}\n",
              "\n",
              "// Listen for the clearing of the current output cell\n",
              "var outputEl = gd.closest('.output');\n",
              "if (outputEl) {{\n",
              "    x.observe(outputEl, {childList: true});\n",
              "}}\n",
              "\n",
              "                        })\n",
              "                };\n",
              "                \n",
              "            </script>\n",
              "        </div>\n",
              "</body>\n",
              "</html>"
            ]
          },
          "metadata": {
            "tags": []
          }
        },
        {
          "output_type": "stream",
          "text": [
            "time: 198 ms\n"
          ],
          "name": "stdout"
        }
      ]
    },
    {
      "cell_type": "markdown",
      "metadata": {
        "id": "vWO2JX47MQl1",
        "colab_type": "text"
      },
      "source": [
        "On remarque qu'on évalue la puissance du test de Monte-Carlo avec une précision similaire avec environ un quart de permutations en moins (et un temps d'exécution de 19 minutes contre 26 minutes). Lors d'une autre exécution, la différence en termes de temps d'exécution était même plus importante - 25 contre 35 minutes."
      ]
    },
    {
      "cell_type": "markdown",
      "metadata": {
        "id": "LmOa5YLtKvQo",
        "colab_type": "text"
      },
      "source": [
        "**Bonus de fin** Reproduction des résultats de l'article de Boos et Zhang qui nous ont permis d'implémenter la méthode et de vérifier notre code."
      ]
    },
    {
      "cell_type": "code",
      "metadata": {
        "id": "0NBISm19Kvz2",
        "colab_type": "code",
        "outputId": "45f0e5c8-5a92-443d-c922-ab2932c37b24",
        "colab": {
          "base_uri": "https://localhost:8080/",
          "height": 282
        }
      },
      "source": [
        "import matplotlib.pyplot as plt\n",
        "\n",
        "def puiss3_bis(delta, sigma, alpha, n_permutations, n_simulations):\n",
        "    n_rejections = 0\n",
        "\n",
        "    for _ in range(n_simulations):\n",
        "        x1, x2 = genereDonnees(delta, sigma, 8, 4)\n",
        "        t_obs = calculeT(x1, x2)\n",
        "\n",
        "        p_value = approxP(x1, x2, t_obs, n_permutations)\n",
        "        if p_value < alpha:\n",
        "            n_rejections += 1\n",
        "     \n",
        "    return n_rejections / n_simulations\n",
        "\n",
        "deltas = [0.5, 1, 1.5, 2]\n",
        "alpha = 0.05\n",
        "sigmas = [1]\n",
        "\n",
        "results = {}\n",
        "\n",
        "n_simulations = 4000\n",
        "n_permutations = [99, 79, 59, 39, 19]\n",
        "\n",
        "for n_permutation in n_permutations:\n",
        "    for sigma in sigmas:\n",
        "        for delta in deltas:\n",
        "            exp_name = (delta, n_permutation)\n",
        "            results[exp_name] = puiss3_bis(delta, sigma, alpha, n_permutation, n_simulations)\n",
        "\n",
        "# affichage des points\n",
        "for k, v in results.items():\n",
        "    plt.scatter(1/k[1], v, label=f\"{k}\", color='k')\n",
        "\n",
        "\"\"\"\n",
        "x = np.array([1/val for val in n_permutations]).reshape(-1, 1)\n",
        "y = np.array(n_rejections)\n",
        "\n",
        "clf = LinearRegression()\n",
        "clf.fit(x, y)\n",
        "\n",
        "predict = clf.predict(np.array(0).reshape(-1, 1))\n",
        "\"\"\"\n",
        "plt.show()"
      ],
      "execution_count": 0,
      "outputs": [
        {
          "output_type": "display_data",
          "data": {
            "image/png": "[encoded data removed]",
            "text/plain": [
              "<Figure size 432x288 with 1 Axes>"
            ]
          },
          "metadata": {
            "tags": []
          }
        },
        {
          "output_type": "stream",
          "text": [
            "time: 6min 32s\n"
          ],
          "name": "stdout"
        }
      ]
    }
  ]
}